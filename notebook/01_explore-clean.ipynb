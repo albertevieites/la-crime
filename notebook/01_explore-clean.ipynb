{
 "cells": [
  {
   "cell_type": "code",
   "execution_count": 1,
   "id": "initial_id",
   "metadata": {
    "collapsed": true,
    "ExecuteTime": {
     "end_time": "2024-02-24T02:05:31.381514Z",
     "start_time": "2024-02-24T02:05:31.349192Z"
    }
   },
   "outputs": [],
   "source": [
    "import pandas as pd\n",
    "import numpy as np"
   ]
  },
  {
   "cell_type": "code",
   "outputs": [
    {
     "data": {
      "text/plain": "       DR_NO               Date Rptd                DATE OCC  TIME OCC  AREA  \\\n0  190326475  03/01/2020 12:00:00 AM  03/01/2020 12:00:00 AM      2130     7   \n1  200106753  02/09/2020 12:00:00 AM  02/08/2020 12:00:00 AM      1800     1   \n2  200320258  11/11/2020 12:00:00 AM  11/04/2020 12:00:00 AM      1700     3   \n3  200907217  05/10/2023 12:00:00 AM  03/10/2020 12:00:00 AM      2037     9   \n4  220614831  08/18/2022 12:00:00 AM  08/17/2020 12:00:00 AM      1200     6   \n\n   AREA NAME  Rpt Dist No  Part 1-2  Crm Cd  \\\n0   Wilshire          784         1     510   \n1    Central          182         1     330   \n2  Southwest          356         1     480   \n3   Van Nuys          964         1     343   \n4  Hollywood          666         2     354   \n\n                                Crm Cd Desc  ... Status   Status Desc  \\\n0                          VEHICLE - STOLEN  ...     AA  Adult Arrest   \n1                     BURGLARY FROM VEHICLE  ...     IC   Invest Cont   \n2                             BIKE - STOLEN  ...     IC   Invest Cont   \n3  SHOPLIFTING-GRAND THEFT ($950.01 & OVER)  ...     IC   Invest Cont   \n4                         THEFT OF IDENTITY  ...     IC   Invest Cont   \n\n  Crm Cd 1 Crm Cd 2  Crm Cd 3 Crm Cd 4  \\\n0    510.0    998.0       NaN      NaN   \n1    330.0    998.0       NaN      NaN   \n2    480.0      NaN       NaN      NaN   \n3    343.0      NaN       NaN      NaN   \n4    354.0      NaN       NaN      NaN   \n\n                                   LOCATION Cross Street      LAT       LON  \n0   1900 S  LONGWOOD                     AV          NaN  34.0375 -118.3506  \n1   1000 S  FLOWER                       ST          NaN  34.0444 -118.2628  \n2   1400 W  37TH                         ST          NaN  34.0210 -118.3002  \n3  14000    RIVERSIDE                    DR          NaN  34.1576 -118.4387  \n4                         1900    TRANSIENT          NaN  34.0944 -118.3277  \n\n[5 rows x 28 columns]",
      "text/html": "<div>\n<style scoped>\n    .dataframe tbody tr th:only-of-type {\n        vertical-align: middle;\n    }\n\n    .dataframe tbody tr th {\n        vertical-align: top;\n    }\n\n    .dataframe thead th {\n        text-align: right;\n    }\n</style>\n<table border=\"1\" class=\"dataframe\">\n  <thead>\n    <tr style=\"text-align: right;\">\n      <th></th>\n      <th>DR_NO</th>\n      <th>Date Rptd</th>\n      <th>DATE OCC</th>\n      <th>TIME OCC</th>\n      <th>AREA</th>\n      <th>AREA NAME</th>\n      <th>Rpt Dist No</th>\n      <th>Part 1-2</th>\n      <th>Crm Cd</th>\n      <th>Crm Cd Desc</th>\n      <th>...</th>\n      <th>Status</th>\n      <th>Status Desc</th>\n      <th>Crm Cd 1</th>\n      <th>Crm Cd 2</th>\n      <th>Crm Cd 3</th>\n      <th>Crm Cd 4</th>\n      <th>LOCATION</th>\n      <th>Cross Street</th>\n      <th>LAT</th>\n      <th>LON</th>\n    </tr>\n  </thead>\n  <tbody>\n    <tr>\n      <th>0</th>\n      <td>190326475</td>\n      <td>03/01/2020 12:00:00 AM</td>\n      <td>03/01/2020 12:00:00 AM</td>\n      <td>2130</td>\n      <td>7</td>\n      <td>Wilshire</td>\n      <td>784</td>\n      <td>1</td>\n      <td>510</td>\n      <td>VEHICLE - STOLEN</td>\n      <td>...</td>\n      <td>AA</td>\n      <td>Adult Arrest</td>\n      <td>510.0</td>\n      <td>998.0</td>\n      <td>NaN</td>\n      <td>NaN</td>\n      <td>1900 S  LONGWOOD                     AV</td>\n      <td>NaN</td>\n      <td>34.0375</td>\n      <td>-118.3506</td>\n    </tr>\n    <tr>\n      <th>1</th>\n      <td>200106753</td>\n      <td>02/09/2020 12:00:00 AM</td>\n      <td>02/08/2020 12:00:00 AM</td>\n      <td>1800</td>\n      <td>1</td>\n      <td>Central</td>\n      <td>182</td>\n      <td>1</td>\n      <td>330</td>\n      <td>BURGLARY FROM VEHICLE</td>\n      <td>...</td>\n      <td>IC</td>\n      <td>Invest Cont</td>\n      <td>330.0</td>\n      <td>998.0</td>\n      <td>NaN</td>\n      <td>NaN</td>\n      <td>1000 S  FLOWER                       ST</td>\n      <td>NaN</td>\n      <td>34.0444</td>\n      <td>-118.2628</td>\n    </tr>\n    <tr>\n      <th>2</th>\n      <td>200320258</td>\n      <td>11/11/2020 12:00:00 AM</td>\n      <td>11/04/2020 12:00:00 AM</td>\n      <td>1700</td>\n      <td>3</td>\n      <td>Southwest</td>\n      <td>356</td>\n      <td>1</td>\n      <td>480</td>\n      <td>BIKE - STOLEN</td>\n      <td>...</td>\n      <td>IC</td>\n      <td>Invest Cont</td>\n      <td>480.0</td>\n      <td>NaN</td>\n      <td>NaN</td>\n      <td>NaN</td>\n      <td>1400 W  37TH                         ST</td>\n      <td>NaN</td>\n      <td>34.0210</td>\n      <td>-118.3002</td>\n    </tr>\n    <tr>\n      <th>3</th>\n      <td>200907217</td>\n      <td>05/10/2023 12:00:00 AM</td>\n      <td>03/10/2020 12:00:00 AM</td>\n      <td>2037</td>\n      <td>9</td>\n      <td>Van Nuys</td>\n      <td>964</td>\n      <td>1</td>\n      <td>343</td>\n      <td>SHOPLIFTING-GRAND THEFT ($950.01 &amp; OVER)</td>\n      <td>...</td>\n      <td>IC</td>\n      <td>Invest Cont</td>\n      <td>343.0</td>\n      <td>NaN</td>\n      <td>NaN</td>\n      <td>NaN</td>\n      <td>14000    RIVERSIDE                    DR</td>\n      <td>NaN</td>\n      <td>34.1576</td>\n      <td>-118.4387</td>\n    </tr>\n    <tr>\n      <th>4</th>\n      <td>220614831</td>\n      <td>08/18/2022 12:00:00 AM</td>\n      <td>08/17/2020 12:00:00 AM</td>\n      <td>1200</td>\n      <td>6</td>\n      <td>Hollywood</td>\n      <td>666</td>\n      <td>2</td>\n      <td>354</td>\n      <td>THEFT OF IDENTITY</td>\n      <td>...</td>\n      <td>IC</td>\n      <td>Invest Cont</td>\n      <td>354.0</td>\n      <td>NaN</td>\n      <td>NaN</td>\n      <td>NaN</td>\n      <td>1900    TRANSIENT</td>\n      <td>NaN</td>\n      <td>34.0944</td>\n      <td>-118.3277</td>\n    </tr>\n  </tbody>\n</table>\n<p>5 rows × 28 columns</p>\n</div>"
     },
     "execution_count": 3,
     "metadata": {},
     "output_type": "execute_result"
    }
   ],
   "source": [
    "df = pd.read_csv(\"../data/crime_data_from_2020.csv\")\n",
    "df.head()"
   ],
   "metadata": {
    "collapsed": false,
    "ExecuteTime": {
     "end_time": "2024-02-24T03:23:17.528629Z",
     "start_time": "2024-02-24T03:23:09.991982Z"
    }
   },
   "id": "800520e20975c8b",
   "execution_count": 3
  },
  {
   "cell_type": "code",
   "outputs": [
    {
     "data": {
      "text/plain": "Weapon Desc\nSTRONG-ARM (HANDS, FIST, FEET OR BODILY FORCE)    165841\nUNKNOWN WEAPON/OTHER WEAPON                        33359\nVERBAL THREAT                                      22664\nHAND GUN                                           19162\nSEMI-AUTOMATIC PISTOL                               6940\n                                                   ...  \nMAC-11 SEMIAUTOMATIC ASSAULT WEAPON                    3\nHECKLER & KOCH 91 SEMIAUTOMATIC ASSAULT RIFLE          2\nMAC-10 SEMIAUTOMATIC ASSAULT WEAPON                    2\nM1-1 SEMIAUTOMATIC ASSAULT RIFLE                       1\nM-14 SEMIAUTOMATIC ASSAULT RIFLE                       1\nName: count, Length: 79, dtype: int64"
     },
     "execution_count": 5,
     "metadata": {},
     "output_type": "execute_result"
    }
   ],
   "source": [
    "df['Weapon Desc'].value_counts()"
   ],
   "metadata": {
    "collapsed": false,
    "ExecuteTime": {
     "end_time": "2024-02-24T03:24:16.084015Z",
     "start_time": "2024-02-24T03:24:15.985669Z"
    }
   },
   "id": "9e5db9ce8dce5428",
   "execution_count": 5
  },
  {
   "cell_type": "code",
   "outputs": [
    {
     "data": {
      "text/plain": "Vict Sex\nM    366735\nF    326890\nX     80910\nH        97\n-         1\nName: count, dtype: int64"
     },
     "execution_count": 5,
     "metadata": {},
     "output_type": "execute_result"
    }
   ],
   "source": [
    "df['Vict Sex'].value_counts()"
   ],
   "metadata": {
    "collapsed": false,
    "ExecuteTime": {
     "end_time": "2024-02-21T22:07:32.190064Z",
     "start_time": "2024-02-21T22:07:32.071688Z"
    }
   },
   "id": "e7c29d55bc79cc0e",
   "execution_count": 5
  },
  {
   "cell_type": "code",
   "outputs": [
    {
     "name": "stdout",
     "output_type": "stream",
     "text": [
      "<class 'pandas.core.frame.DataFrame'>\n",
      "RangeIndex: 892934 entries, 0 to 892933\n",
      "Data columns (total 28 columns):\n",
      " #   Column          Non-Null Count   Dtype  \n",
      "---  ------          --------------   -----  \n",
      " 0   DR_NO           892934 non-null  int64  \n",
      " 1   Date Rptd       892934 non-null  object \n",
      " 2   DATE OCC        892934 non-null  object \n",
      " 3   TIME OCC        892934 non-null  int64  \n",
      " 4   AREA            892934 non-null  int64  \n",
      " 5   AREA NAME       892934 non-null  object \n",
      " 6   Rpt Dist No     892934 non-null  int64  \n",
      " 7   Part 1-2        892934 non-null  int64  \n",
      " 8   Crm Cd          892934 non-null  int64  \n",
      " 9   Crm Cd Desc     892934 non-null  object \n",
      " 10  Mocodes         768605 non-null  object \n",
      " 11  Vict Age        892934 non-null  int64  \n",
      " 12  Vict Sex        774633 non-null  object \n",
      " 13  Vict Descent    774625 non-null  object \n",
      " 14  Premis Cd       892924 non-null  float64\n",
      " 15  Premis Desc     892386 non-null  object \n",
      " 16  Weapon Used Cd  309539 non-null  float64\n",
      " 17  Weapon Desc     309539 non-null  object \n",
      " 18  Status          892934 non-null  object \n",
      " 19  Status Desc     892934 non-null  object \n",
      " 20  Crm Cd 1        892923 non-null  float64\n",
      " 21  Crm Cd 2        65079 non-null   float64\n",
      " 22  Crm Cd 3        2200 non-null    float64\n",
      " 23  Crm Cd 4        63 non-null      float64\n",
      " 24  LOCATION        892934 non-null  object \n",
      " 25  Cross Street    140980 non-null  object \n",
      " 26  LAT             892934 non-null  float64\n",
      " 27  LON             892934 non-null  float64\n",
      "dtypes: float64(8), int64(7), object(13)\n",
      "memory usage: 190.8+ MB\n"
     ]
    }
   ],
   "source": [
    "df.info()"
   ],
   "metadata": {
    "collapsed": false,
    "ExecuteTime": {
     "end_time": "2024-02-21T20:28:03.500985Z",
     "start_time": "2024-02-21T20:28:03.017983Z"
    }
   },
   "id": "a3de91f43918f1c0",
   "execution_count": 3
  },
  {
   "cell_type": "code",
   "outputs": [
    {
     "data": {
      "text/plain": "                        count              mean              std          min  \\\nDR_NO           892934.000000  217599056.047236  11581430.924393   817.000000   \nTIME OCC        892934.000000       1336.652506       653.157043     1.000000   \nAREA            892934.000000         10.700167         6.102301     1.000000   \nRpt Dist No     892934.000000       1116.451424       610.234555   101.000000   \nPart 1-2        892934.000000          1.411286         0.492067     1.000000   \nCrm Cd          892934.000000        500.782104       207.633373   110.000000   \nVict Age        892934.000000         29.642293        21.834910    -3.000000   \nPremis Cd       892924.000000        306.403196       217.283948   101.000000   \nWeapon Used Cd  309539.000000        363.379002       123.698899   101.000000   \nCrm Cd 1        892923.000000        500.524224       207.424134   110.000000   \nCrm Cd 2         65079.000000        957.888474       110.720794   210.000000   \nCrm Cd 3          2200.000000        983.814545        52.329536   310.000000   \nCrm Cd 4            63.000000        991.111111        27.273472   821.000000   \nLAT             892934.000000         33.987351         1.716755     0.000000   \nLON             892934.000000       -118.054176         5.951574  -118.667600   \n\n                             25%               50%               75%  \\\nDR_NO           210317839.500000  220410083.500000  230311516.750000   \nTIME OCC              900.000000       1415.000000       1900.000000   \nAREA                    6.000000         11.000000         16.000000   \nRpt Dist No           615.000000       1141.000000       1615.000000   \nPart 1-2                1.000000          1.000000          2.000000   \nCrm Cd                331.000000        442.000000        626.000000   \nVict Age                0.000000         31.000000         45.000000   \nPremis Cd             101.000000        203.000000        501.000000   \nWeapon Used Cd        310.000000        400.000000        400.000000   \nCrm Cd 1              331.000000        442.000000        626.000000   \nCrm Cd 2              998.000000        998.000000        998.000000   \nCrm Cd 3              998.000000        998.000000        998.000000   \nCrm Cd 4              998.000000        998.000000        998.000000   \nLAT                    34.014500         34.058500         34.163400   \nLON                  -118.429600       -118.321500       -118.273900   \n\n                             max  \nDR_NO           249904551.000000  \nTIME OCC             2359.000000  \nAREA                   21.000000  \nRpt Dist No          2199.000000  \nPart 1-2                2.000000  \nCrm Cd                956.000000  \nVict Age              120.000000  \nPremis Cd             976.000000  \nWeapon Used Cd        516.000000  \nCrm Cd 1              956.000000  \nCrm Cd 2              999.000000  \nCrm Cd 3              999.000000  \nCrm Cd 4              999.000000  \nLAT                    34.334300  \nLON                     0.000000  ",
      "text/html": "<div>\n<style scoped>\n    .dataframe tbody tr th:only-of-type {\n        vertical-align: middle;\n    }\n\n    .dataframe tbody tr th {\n        vertical-align: top;\n    }\n\n    .dataframe thead th {\n        text-align: right;\n    }\n</style>\n<table border=\"1\" class=\"dataframe\">\n  <thead>\n    <tr style=\"text-align: right;\">\n      <th></th>\n      <th>count</th>\n      <th>mean</th>\n      <th>std</th>\n      <th>min</th>\n      <th>25%</th>\n      <th>50%</th>\n      <th>75%</th>\n      <th>max</th>\n    </tr>\n  </thead>\n  <tbody>\n    <tr>\n      <th>DR_NO</th>\n      <td>892934.000000</td>\n      <td>217599056.047236</td>\n      <td>11581430.924393</td>\n      <td>817.000000</td>\n      <td>210317839.500000</td>\n      <td>220410083.500000</td>\n      <td>230311516.750000</td>\n      <td>249904551.000000</td>\n    </tr>\n    <tr>\n      <th>TIME OCC</th>\n      <td>892934.000000</td>\n      <td>1336.652506</td>\n      <td>653.157043</td>\n      <td>1.000000</td>\n      <td>900.000000</td>\n      <td>1415.000000</td>\n      <td>1900.000000</td>\n      <td>2359.000000</td>\n    </tr>\n    <tr>\n      <th>AREA</th>\n      <td>892934.000000</td>\n      <td>10.700167</td>\n      <td>6.102301</td>\n      <td>1.000000</td>\n      <td>6.000000</td>\n      <td>11.000000</td>\n      <td>16.000000</td>\n      <td>21.000000</td>\n    </tr>\n    <tr>\n      <th>Rpt Dist No</th>\n      <td>892934.000000</td>\n      <td>1116.451424</td>\n      <td>610.234555</td>\n      <td>101.000000</td>\n      <td>615.000000</td>\n      <td>1141.000000</td>\n      <td>1615.000000</td>\n      <td>2199.000000</td>\n    </tr>\n    <tr>\n      <th>Part 1-2</th>\n      <td>892934.000000</td>\n      <td>1.411286</td>\n      <td>0.492067</td>\n      <td>1.000000</td>\n      <td>1.000000</td>\n      <td>1.000000</td>\n      <td>2.000000</td>\n      <td>2.000000</td>\n    </tr>\n    <tr>\n      <th>Crm Cd</th>\n      <td>892934.000000</td>\n      <td>500.782104</td>\n      <td>207.633373</td>\n      <td>110.000000</td>\n      <td>331.000000</td>\n      <td>442.000000</td>\n      <td>626.000000</td>\n      <td>956.000000</td>\n    </tr>\n    <tr>\n      <th>Vict Age</th>\n      <td>892934.000000</td>\n      <td>29.642293</td>\n      <td>21.834910</td>\n      <td>-3.000000</td>\n      <td>0.000000</td>\n      <td>31.000000</td>\n      <td>45.000000</td>\n      <td>120.000000</td>\n    </tr>\n    <tr>\n      <th>Premis Cd</th>\n      <td>892924.000000</td>\n      <td>306.403196</td>\n      <td>217.283948</td>\n      <td>101.000000</td>\n      <td>101.000000</td>\n      <td>203.000000</td>\n      <td>501.000000</td>\n      <td>976.000000</td>\n    </tr>\n    <tr>\n      <th>Weapon Used Cd</th>\n      <td>309539.000000</td>\n      <td>363.379002</td>\n      <td>123.698899</td>\n      <td>101.000000</td>\n      <td>310.000000</td>\n      <td>400.000000</td>\n      <td>400.000000</td>\n      <td>516.000000</td>\n    </tr>\n    <tr>\n      <th>Crm Cd 1</th>\n      <td>892923.000000</td>\n      <td>500.524224</td>\n      <td>207.424134</td>\n      <td>110.000000</td>\n      <td>331.000000</td>\n      <td>442.000000</td>\n      <td>626.000000</td>\n      <td>956.000000</td>\n    </tr>\n    <tr>\n      <th>Crm Cd 2</th>\n      <td>65079.000000</td>\n      <td>957.888474</td>\n      <td>110.720794</td>\n      <td>210.000000</td>\n      <td>998.000000</td>\n      <td>998.000000</td>\n      <td>998.000000</td>\n      <td>999.000000</td>\n    </tr>\n    <tr>\n      <th>Crm Cd 3</th>\n      <td>2200.000000</td>\n      <td>983.814545</td>\n      <td>52.329536</td>\n      <td>310.000000</td>\n      <td>998.000000</td>\n      <td>998.000000</td>\n      <td>998.000000</td>\n      <td>999.000000</td>\n    </tr>\n    <tr>\n      <th>Crm Cd 4</th>\n      <td>63.000000</td>\n      <td>991.111111</td>\n      <td>27.273472</td>\n      <td>821.000000</td>\n      <td>998.000000</td>\n      <td>998.000000</td>\n      <td>998.000000</td>\n      <td>999.000000</td>\n    </tr>\n    <tr>\n      <th>LAT</th>\n      <td>892934.000000</td>\n      <td>33.987351</td>\n      <td>1.716755</td>\n      <td>0.000000</td>\n      <td>34.014500</td>\n      <td>34.058500</td>\n      <td>34.163400</td>\n      <td>34.334300</td>\n    </tr>\n    <tr>\n      <th>LON</th>\n      <td>892934.000000</td>\n      <td>-118.054176</td>\n      <td>5.951574</td>\n      <td>-118.667600</td>\n      <td>-118.429600</td>\n      <td>-118.321500</td>\n      <td>-118.273900</td>\n      <td>0.000000</td>\n    </tr>\n  </tbody>\n</table>\n</div>"
     },
     "execution_count": 4,
     "metadata": {},
     "output_type": "execute_result"
    }
   ],
   "source": [
    "df.describe().apply(lambda x: x.apply('{0:5f}'.format)).T"
   ],
   "metadata": {
    "collapsed": false,
    "ExecuteTime": {
     "end_time": "2024-02-21T20:28:08.742614Z",
     "start_time": "2024-02-21T20:28:07.275317Z"
    }
   },
   "id": "89f19a73984e23c5",
   "execution_count": 4
  },
  {
   "cell_type": "markdown",
   "source": [
    "### Remove some variables"
   ],
   "metadata": {
    "collapsed": false
   },
   "id": "dba9034b83b7845c"
  },
  {
   "cell_type": "code",
   "outputs": [
    {
     "data": {
      "text/plain": "Index(['DR_NO', 'Date Rptd', 'DATE OCC', 'TIME OCC', 'AREA', 'AREA NAME',\n       'Rpt Dist No', 'Part 1-2', 'Crm Cd', 'Crm Cd Desc', 'Mocodes',\n       'Vict Age', 'Vict Sex', 'Vict Descent', 'Premis Cd', 'Premis Desc',\n       'Weapon Used Cd', 'Weapon Desc', 'Status', 'Status Desc', 'Crm Cd 1',\n       'Crm Cd 2', 'Crm Cd 3', 'Crm Cd 4', 'LOCATION', 'Cross Street', 'LAT',\n       'LON'],\n      dtype='object')"
     },
     "execution_count": 5,
     "metadata": {},
     "output_type": "execute_result"
    }
   ],
   "source": [
    "df.columns"
   ],
   "metadata": {
    "collapsed": false,
    "ExecuteTime": {
     "end_time": "2024-02-21T20:28:15.669285Z",
     "start_time": "2024-02-21T20:28:15.636818Z"
    }
   },
   "id": "5f33cc7dc97ba005",
   "execution_count": 5
  },
  {
   "cell_type": "code",
   "outputs": [
    {
     "data": {
      "text/plain": "                 DATE OCC  TIME OCC  AREA NAME  \\\n0  03/01/2020 12:00:00 AM      2130   Wilshire   \n1  02/08/2020 12:00:00 AM      1800    Central   \n2  11/04/2020 12:00:00 AM      1700  Southwest   \n3  03/10/2020 12:00:00 AM      2037   Van Nuys   \n4  08/17/2020 12:00:00 AM      1200  Hollywood   \n\n                                Crm Cd Desc  Vict Age Vict Sex Vict Descent  \\\n0                          VEHICLE - STOLEN         0        M            O   \n1                     BURGLARY FROM VEHICLE        47        M            O   \n2                             BIKE - STOLEN        19        X            X   \n3  SHOPLIFTING-GRAND THEFT ($950.01 & OVER)        19        M            O   \n4                         THEFT OF IDENTITY        28        M            H   \n\n                                    Premis Desc Weapon Desc   Status Desc  \\\n0                                        STREET         NaN  Adult Arrest   \n1             BUS STOP/LAYOVER (ALSO QUERY 124)         NaN   Invest Cont   \n2  MULTI-UNIT DWELLING (APARTMENT, DUPLEX, ETC)         NaN   Invest Cont   \n3                                CLOTHING STORE         NaN   Invest Cont   \n4                                      SIDEWALK         NaN   Invest Cont   \n\n                                   LOCATION      LAT       LON  \n0   1900 S  LONGWOOD                     AV  34.0375 -118.3506  \n1   1000 S  FLOWER                       ST  34.0444 -118.2628  \n2   1400 W  37TH                         ST  34.0210 -118.3002  \n3  14000    RIVERSIDE                    DR  34.1576 -118.4387  \n4                         1900    TRANSIENT  34.0944 -118.3277  ",
      "text/html": "<div>\n<style scoped>\n    .dataframe tbody tr th:only-of-type {\n        vertical-align: middle;\n    }\n\n    .dataframe tbody tr th {\n        vertical-align: top;\n    }\n\n    .dataframe thead th {\n        text-align: right;\n    }\n</style>\n<table border=\"1\" class=\"dataframe\">\n  <thead>\n    <tr style=\"text-align: right;\">\n      <th></th>\n      <th>DATE OCC</th>\n      <th>TIME OCC</th>\n      <th>AREA NAME</th>\n      <th>Crm Cd Desc</th>\n      <th>Vict Age</th>\n      <th>Vict Sex</th>\n      <th>Vict Descent</th>\n      <th>Premis Desc</th>\n      <th>Weapon Desc</th>\n      <th>Status Desc</th>\n      <th>LOCATION</th>\n      <th>LAT</th>\n      <th>LON</th>\n    </tr>\n  </thead>\n  <tbody>\n    <tr>\n      <th>0</th>\n      <td>03/01/2020 12:00:00 AM</td>\n      <td>2130</td>\n      <td>Wilshire</td>\n      <td>VEHICLE - STOLEN</td>\n      <td>0</td>\n      <td>M</td>\n      <td>O</td>\n      <td>STREET</td>\n      <td>NaN</td>\n      <td>Adult Arrest</td>\n      <td>1900 S  LONGWOOD                     AV</td>\n      <td>34.0375</td>\n      <td>-118.3506</td>\n    </tr>\n    <tr>\n      <th>1</th>\n      <td>02/08/2020 12:00:00 AM</td>\n      <td>1800</td>\n      <td>Central</td>\n      <td>BURGLARY FROM VEHICLE</td>\n      <td>47</td>\n      <td>M</td>\n      <td>O</td>\n      <td>BUS STOP/LAYOVER (ALSO QUERY 124)</td>\n      <td>NaN</td>\n      <td>Invest Cont</td>\n      <td>1000 S  FLOWER                       ST</td>\n      <td>34.0444</td>\n      <td>-118.2628</td>\n    </tr>\n    <tr>\n      <th>2</th>\n      <td>11/04/2020 12:00:00 AM</td>\n      <td>1700</td>\n      <td>Southwest</td>\n      <td>BIKE - STOLEN</td>\n      <td>19</td>\n      <td>X</td>\n      <td>X</td>\n      <td>MULTI-UNIT DWELLING (APARTMENT, DUPLEX, ETC)</td>\n      <td>NaN</td>\n      <td>Invest Cont</td>\n      <td>1400 W  37TH                         ST</td>\n      <td>34.0210</td>\n      <td>-118.3002</td>\n    </tr>\n    <tr>\n      <th>3</th>\n      <td>03/10/2020 12:00:00 AM</td>\n      <td>2037</td>\n      <td>Van Nuys</td>\n      <td>SHOPLIFTING-GRAND THEFT ($950.01 &amp; OVER)</td>\n      <td>19</td>\n      <td>M</td>\n      <td>O</td>\n      <td>CLOTHING STORE</td>\n      <td>NaN</td>\n      <td>Invest Cont</td>\n      <td>14000    RIVERSIDE                    DR</td>\n      <td>34.1576</td>\n      <td>-118.4387</td>\n    </tr>\n    <tr>\n      <th>4</th>\n      <td>08/17/2020 12:00:00 AM</td>\n      <td>1200</td>\n      <td>Hollywood</td>\n      <td>THEFT OF IDENTITY</td>\n      <td>28</td>\n      <td>M</td>\n      <td>H</td>\n      <td>SIDEWALK</td>\n      <td>NaN</td>\n      <td>Invest Cont</td>\n      <td>1900    TRANSIENT</td>\n      <td>34.0944</td>\n      <td>-118.3277</td>\n    </tr>\n  </tbody>\n</table>\n</div>"
     },
     "execution_count": 6,
     "metadata": {},
     "output_type": "execute_result"
    }
   ],
   "source": [
    "df = df.drop(['DR_NO', 'Date Rptd', 'AREA', 'Rpt Dist No', 'Crm Cd', 'Mocodes', 'Premis Cd', 'Weapon Used Cd', 'Status',\n",
    "              'Crm Cd 1', 'Crm Cd 2', 'Crm Cd 3', 'Crm Cd 4', 'Cross Street', 'Part 1-2'], axis=1)\n",
    "df.head()"
   ],
   "metadata": {
    "collapsed": false,
    "ExecuteTime": {
     "end_time": "2024-02-21T20:28:20.615994Z",
     "start_time": "2024-02-21T20:28:20.296435Z"
    }
   },
   "id": "cd3000a836e3a484",
   "execution_count": 6
  },
  {
   "cell_type": "markdown",
   "source": [
    "### Reassign values"
   ],
   "metadata": {
    "collapsed": false
   },
   "id": "5cfdf0eea2bbdd73"
  },
  {
   "cell_type": "code",
   "outputs": [],
   "source": [
    "# Convert DATE OCC to datetime value type\n",
    "df['DATE OCC'] = df['DATE OCC'].str.split(' ').str[0]\n",
    "df['DATE OCC'] = pd.to_datetime(df['DATE OCC'])\n",
    "\n",
    "# Convert TIME OCC to datetime value type\n",
    "df['TIME OCC'] = df['TIME OCC'].apply(lambda x: f\"{str(x).zfill(4)}\")\n",
    "df['TIME OCC'] = pd.to_datetime(df['TIME OCC'], format='%H%M').dt.time"
   ],
   "metadata": {
    "collapsed": false,
    "ExecuteTime": {
     "end_time": "2024-02-21T20:28:53.389153Z",
     "start_time": "2024-02-21T20:28:49.542274Z"
    }
   },
   "id": "d10560b43cc117d5",
   "execution_count": 7
  },
  {
   "cell_type": "code",
   "outputs": [
    {
     "data": {
      "text/plain": "    DATE OCC  TIME OCC  AREA NAME                               Crm Cd Desc  \\\n0 2020-03-01  21:30:00   Wilshire                          VEHICLE - STOLEN   \n1 2020-02-08  18:00:00    Central                     BURGLARY FROM VEHICLE   \n2 2020-11-04  17:00:00  Southwest                             BIKE - STOLEN   \n3 2020-03-10  20:37:00   Van Nuys  SHOPLIFTING-GRAND THEFT ($950.01 & OVER)   \n4 2020-08-17  12:00:00  Hollywood                         THEFT OF IDENTITY   \n\n   Vict Age Vict Sex Vict Descent  \\\n0         0        M            O   \n1        47        M            O   \n2        19        X            X   \n3        19        M            O   \n4        28        M            H   \n\n                                    Premis Desc Weapon Desc   Status Desc  \\\n0                                        STREET         NaN  Adult Arrest   \n1             BUS STOP/LAYOVER (ALSO QUERY 124)         NaN   Invest Cont   \n2  MULTI-UNIT DWELLING (APARTMENT, DUPLEX, ETC)         NaN   Invest Cont   \n3                                CLOTHING STORE         NaN   Invest Cont   \n4                                      SIDEWALK         NaN   Invest Cont   \n\n                                   LOCATION      LAT       LON  \n0   1900 S  LONGWOOD                     AV  34.0375 -118.3506  \n1   1000 S  FLOWER                       ST  34.0444 -118.2628  \n2   1400 W  37TH                         ST  34.0210 -118.3002  \n3  14000    RIVERSIDE                    DR  34.1576 -118.4387  \n4                         1900    TRANSIENT  34.0944 -118.3277  ",
      "text/html": "<div>\n<style scoped>\n    .dataframe tbody tr th:only-of-type {\n        vertical-align: middle;\n    }\n\n    .dataframe tbody tr th {\n        vertical-align: top;\n    }\n\n    .dataframe thead th {\n        text-align: right;\n    }\n</style>\n<table border=\"1\" class=\"dataframe\">\n  <thead>\n    <tr style=\"text-align: right;\">\n      <th></th>\n      <th>DATE OCC</th>\n      <th>TIME OCC</th>\n      <th>AREA NAME</th>\n      <th>Crm Cd Desc</th>\n      <th>Vict Age</th>\n      <th>Vict Sex</th>\n      <th>Vict Descent</th>\n      <th>Premis Desc</th>\n      <th>Weapon Desc</th>\n      <th>Status Desc</th>\n      <th>LOCATION</th>\n      <th>LAT</th>\n      <th>LON</th>\n    </tr>\n  </thead>\n  <tbody>\n    <tr>\n      <th>0</th>\n      <td>2020-03-01</td>\n      <td>21:30:00</td>\n      <td>Wilshire</td>\n      <td>VEHICLE - STOLEN</td>\n      <td>0</td>\n      <td>M</td>\n      <td>O</td>\n      <td>STREET</td>\n      <td>NaN</td>\n      <td>Adult Arrest</td>\n      <td>1900 S  LONGWOOD                     AV</td>\n      <td>34.0375</td>\n      <td>-118.3506</td>\n    </tr>\n    <tr>\n      <th>1</th>\n      <td>2020-02-08</td>\n      <td>18:00:00</td>\n      <td>Central</td>\n      <td>BURGLARY FROM VEHICLE</td>\n      <td>47</td>\n      <td>M</td>\n      <td>O</td>\n      <td>BUS STOP/LAYOVER (ALSO QUERY 124)</td>\n      <td>NaN</td>\n      <td>Invest Cont</td>\n      <td>1000 S  FLOWER                       ST</td>\n      <td>34.0444</td>\n      <td>-118.2628</td>\n    </tr>\n    <tr>\n      <th>2</th>\n      <td>2020-11-04</td>\n      <td>17:00:00</td>\n      <td>Southwest</td>\n      <td>BIKE - STOLEN</td>\n      <td>19</td>\n      <td>X</td>\n      <td>X</td>\n      <td>MULTI-UNIT DWELLING (APARTMENT, DUPLEX, ETC)</td>\n      <td>NaN</td>\n      <td>Invest Cont</td>\n      <td>1400 W  37TH                         ST</td>\n      <td>34.0210</td>\n      <td>-118.3002</td>\n    </tr>\n    <tr>\n      <th>3</th>\n      <td>2020-03-10</td>\n      <td>20:37:00</td>\n      <td>Van Nuys</td>\n      <td>SHOPLIFTING-GRAND THEFT ($950.01 &amp; OVER)</td>\n      <td>19</td>\n      <td>M</td>\n      <td>O</td>\n      <td>CLOTHING STORE</td>\n      <td>NaN</td>\n      <td>Invest Cont</td>\n      <td>14000    RIVERSIDE                    DR</td>\n      <td>34.1576</td>\n      <td>-118.4387</td>\n    </tr>\n    <tr>\n      <th>4</th>\n      <td>2020-08-17</td>\n      <td>12:00:00</td>\n      <td>Hollywood</td>\n      <td>THEFT OF IDENTITY</td>\n      <td>28</td>\n      <td>M</td>\n      <td>H</td>\n      <td>SIDEWALK</td>\n      <td>NaN</td>\n      <td>Invest Cont</td>\n      <td>1900    TRANSIENT</td>\n      <td>34.0944</td>\n      <td>-118.3277</td>\n    </tr>\n  </tbody>\n</table>\n</div>"
     },
     "execution_count": 8,
     "metadata": {},
     "output_type": "execute_result"
    }
   ],
   "source": [
    "df.head()"
   ],
   "metadata": {
    "collapsed": false,
    "ExecuteTime": {
     "end_time": "2024-02-21T20:28:55.270870Z",
     "start_time": "2024-02-21T20:28:55.241972Z"
    }
   },
   "id": "9b385b9df9b1a142",
   "execution_count": 8
  },
  {
   "cell_type": "code",
   "outputs": [],
   "source": [
    "# Change Vict Sex Values names\n",
    "df['Vict Sex'] = df['Vict Sex'].replace({'F': 'Female', 'M': 'Male', 'X': 'Unknown'})"
   ],
   "metadata": {
    "collapsed": false,
    "ExecuteTime": {
     "end_time": "2024-02-21T20:29:03.022668Z",
     "start_time": "2024-02-21T20:29:02.829482Z"
    }
   },
   "id": "c3db2dc33cb939da",
   "execution_count": 9
  },
  {
   "cell_type": "code",
   "outputs": [],
   "source": [
    "# Change Vict Descent Values names\n",
    "df['Vict Descent'] = df['Vict Descent'].replace(\n",
    "    {'A': 'Other Asian', 'B': 'Black', 'C': 'Chinese', 'D': 'Cambodian', 'F': 'Filipino', 'G': 'Guamanian',\n",
    "     'H': 'Hispanic/Latin/Mexican', 'I': 'American Indian/Alaskan Native', 'J': 'Japanese', 'K': 'Korean',\n",
    "     'L': 'Laotian', 'O': 'Other', 'P': 'Pacific Islander', 'S': 'Samoan', 'U': 'Hawaiian', 'V': 'Vietnamese',\n",
    "     'W': 'White', 'X': 'Unknown', 'Z': 'Asian Indina'})\n"
   ],
   "metadata": {
    "collapsed": false,
    "ExecuteTime": {
     "end_time": "2024-02-21T20:29:09.921781Z",
     "start_time": "2024-02-21T20:29:08.717260Z"
    }
   },
   "id": "e760b14ebea5d33d",
   "execution_count": 10
  },
  {
   "cell_type": "code",
   "outputs": [],
   "source": [],
   "metadata": {
    "collapsed": false
   },
   "id": "2d583441df09718d"
  },
  {
   "cell_type": "code",
   "outputs": [
    {
     "data": {
      "text/plain": "    DATE OCC  TIME OCC  AREA NAME                               Crm Cd Desc  \\\n0 2020-03-01  21:30:00   Wilshire                          VEHICLE - STOLEN   \n1 2020-02-08  18:00:00    Central                     BURGLARY FROM VEHICLE   \n2 2020-11-04  17:00:00  Southwest                             BIKE - STOLEN   \n3 2020-03-10  20:37:00   Van Nuys  SHOPLIFTING-GRAND THEFT ($950.01 & OVER)   \n4 2020-08-17  12:00:00  Hollywood                         THEFT OF IDENTITY   \n\n   Vict Age Vict Sex            Vict Descent  \\\n0         0     Male                   Other   \n1        47     Male                   Other   \n2        19  Unknown                 Unknown   \n3        19     Male                   Other   \n4        28     Male  Hispanic/Latin/Mexican   \n\n                                    Premis Desc Weapon Desc   Status Desc  \\\n0                                        STREET         NaN  Adult Arrest   \n1             BUS STOP/LAYOVER (ALSO QUERY 124)         NaN   Invest Cont   \n2  MULTI-UNIT DWELLING (APARTMENT, DUPLEX, ETC)         NaN   Invest Cont   \n3                                CLOTHING STORE         NaN   Invest Cont   \n4                                      SIDEWALK         NaN   Invest Cont   \n\n                                   LOCATION      LAT       LON  \n0   1900 S  LONGWOOD                     AV  34.0375 -118.3506  \n1   1000 S  FLOWER                       ST  34.0444 -118.2628  \n2   1400 W  37TH                         ST  34.0210 -118.3002  \n3  14000    RIVERSIDE                    DR  34.1576 -118.4387  \n4                         1900    TRANSIENT  34.0944 -118.3277  ",
      "text/html": "<div>\n<style scoped>\n    .dataframe tbody tr th:only-of-type {\n        vertical-align: middle;\n    }\n\n    .dataframe tbody tr th {\n        vertical-align: top;\n    }\n\n    .dataframe thead th {\n        text-align: right;\n    }\n</style>\n<table border=\"1\" class=\"dataframe\">\n  <thead>\n    <tr style=\"text-align: right;\">\n      <th></th>\n      <th>DATE OCC</th>\n      <th>TIME OCC</th>\n      <th>AREA NAME</th>\n      <th>Crm Cd Desc</th>\n      <th>Vict Age</th>\n      <th>Vict Sex</th>\n      <th>Vict Descent</th>\n      <th>Premis Desc</th>\n      <th>Weapon Desc</th>\n      <th>Status Desc</th>\n      <th>LOCATION</th>\n      <th>LAT</th>\n      <th>LON</th>\n    </tr>\n  </thead>\n  <tbody>\n    <tr>\n      <th>0</th>\n      <td>2020-03-01</td>\n      <td>21:30:00</td>\n      <td>Wilshire</td>\n      <td>VEHICLE - STOLEN</td>\n      <td>0</td>\n      <td>Male</td>\n      <td>Other</td>\n      <td>STREET</td>\n      <td>NaN</td>\n      <td>Adult Arrest</td>\n      <td>1900 S  LONGWOOD                     AV</td>\n      <td>34.0375</td>\n      <td>-118.3506</td>\n    </tr>\n    <tr>\n      <th>1</th>\n      <td>2020-02-08</td>\n      <td>18:00:00</td>\n      <td>Central</td>\n      <td>BURGLARY FROM VEHICLE</td>\n      <td>47</td>\n      <td>Male</td>\n      <td>Other</td>\n      <td>BUS STOP/LAYOVER (ALSO QUERY 124)</td>\n      <td>NaN</td>\n      <td>Invest Cont</td>\n      <td>1000 S  FLOWER                       ST</td>\n      <td>34.0444</td>\n      <td>-118.2628</td>\n    </tr>\n    <tr>\n      <th>2</th>\n      <td>2020-11-04</td>\n      <td>17:00:00</td>\n      <td>Southwest</td>\n      <td>BIKE - STOLEN</td>\n      <td>19</td>\n      <td>Unknown</td>\n      <td>Unknown</td>\n      <td>MULTI-UNIT DWELLING (APARTMENT, DUPLEX, ETC)</td>\n      <td>NaN</td>\n      <td>Invest Cont</td>\n      <td>1400 W  37TH                         ST</td>\n      <td>34.0210</td>\n      <td>-118.3002</td>\n    </tr>\n    <tr>\n      <th>3</th>\n      <td>2020-03-10</td>\n      <td>20:37:00</td>\n      <td>Van Nuys</td>\n      <td>SHOPLIFTING-GRAND THEFT ($950.01 &amp; OVER)</td>\n      <td>19</td>\n      <td>Male</td>\n      <td>Other</td>\n      <td>CLOTHING STORE</td>\n      <td>NaN</td>\n      <td>Invest Cont</td>\n      <td>14000    RIVERSIDE                    DR</td>\n      <td>34.1576</td>\n      <td>-118.4387</td>\n    </tr>\n    <tr>\n      <th>4</th>\n      <td>2020-08-17</td>\n      <td>12:00:00</td>\n      <td>Hollywood</td>\n      <td>THEFT OF IDENTITY</td>\n      <td>28</td>\n      <td>Male</td>\n      <td>Hispanic/Latin/Mexican</td>\n      <td>SIDEWALK</td>\n      <td>NaN</td>\n      <td>Invest Cont</td>\n      <td>1900    TRANSIENT</td>\n      <td>34.0944</td>\n      <td>-118.3277</td>\n    </tr>\n  </tbody>\n</table>\n</div>"
     },
     "execution_count": 11,
     "metadata": {},
     "output_type": "execute_result"
    }
   ],
   "source": [
    "df.head()"
   ],
   "metadata": {
    "collapsed": false,
    "ExecuteTime": {
     "end_time": "2024-02-21T20:29:13.019149Z",
     "start_time": "2024-02-21T20:29:12.994521Z"
    }
   },
   "id": "1858a42e7e76423f",
   "execution_count": 11
  },
  {
   "cell_type": "code",
   "outputs": [
    {
     "data": {
      "text/plain": "Status Desc\nInvestigation Continuous    714928\nAdult Other                  96122\nAdult Arrest                 77409\nJuvenile Arrest               2894\nJuvenile Other                1577\nUnknown                          4\nName: count, dtype: int64"
     },
     "execution_count": 12,
     "metadata": {},
     "output_type": "execute_result"
    }
   ],
   "source": [
    "df['Status Desc'] = df['Status Desc'].replace({'Invest Cont': 'Investigation Continuous',\n",
    "                                               'Adult Other': 'Adult Other',\n",
    "                                               'Adult Arrest': 'Adult Arrest',\n",
    "                                               'Juv Arrest': 'Juvenile Arrest',\n",
    "                                               'Juv Other': 'Juvenile Other',\n",
    "                                               'UNK': 'Unknown'})\n",
    "df['Status Desc'].value_counts()"
   ],
   "metadata": {
    "collapsed": false,
    "ExecuteTime": {
     "end_time": "2024-02-21T20:29:18.448912Z",
     "start_time": "2024-02-21T20:29:18.186230Z"
    }
   },
   "id": "3cf453a527dd580c",
   "execution_count": 12
  },
  {
   "cell_type": "code",
   "outputs": [],
   "source": [
    "# Remove whitespace on Location\n",
    "df['LOCATION'] = df['LOCATION'].str.replace(r'\\s+', ' ', regex=True).str.strip()"
   ],
   "metadata": {
    "collapsed": false,
    "ExecuteTime": {
     "end_time": "2024-02-21T20:29:43.919829Z",
     "start_time": "2024-02-21T20:29:42.243746Z"
    }
   },
   "id": "e95446426b176777",
   "execution_count": 13
  },
  {
   "cell_type": "markdown",
   "source": [
    "### Missing Values"
   ],
   "metadata": {
    "collapsed": false
   },
   "id": "e43ae829c6108733"
  },
  {
   "cell_type": "code",
   "outputs": [
    {
     "data": {
      "text/plain": "    DATE OCC  TIME OCC  AREA NAME                               Crm Cd Desc  \\\n0 2020-03-01  21:30:00   Wilshire                          VEHICLE - STOLEN   \n1 2020-02-08  18:00:00    Central                     BURGLARY FROM VEHICLE   \n2 2020-11-04  17:00:00  Southwest                             BIKE - STOLEN   \n3 2020-03-10  20:37:00   Van Nuys  SHOPLIFTING-GRAND THEFT ($950.01 & OVER)   \n4 2020-08-17  12:00:00  Hollywood                         THEFT OF IDENTITY   \n\n   Vict Age Vict Sex            Vict Descent  \\\n0         0     Male                   Other   \n1        47     Male                   Other   \n2        19  Unknown                 Unknown   \n3        19     Male                   Other   \n4        28     Male  Hispanic/Latin/Mexican   \n\n                                    Premis Desc Weapon Desc  \\\n0                                        STREET         NaN   \n1             BUS STOP/LAYOVER (ALSO QUERY 124)         NaN   \n2  MULTI-UNIT DWELLING (APARTMENT, DUPLEX, ETC)         NaN   \n3                                CLOTHING STORE         NaN   \n4                                      SIDEWALK         NaN   \n\n                Status Desc            LOCATION      LAT       LON  \n0              Adult Arrest  1900 S LONGWOOD AV  34.0375 -118.3506  \n1  Investigation Continuous    1000 S FLOWER ST  34.0444 -118.2628  \n2  Investigation Continuous      1400 W 37TH ST  34.0210 -118.3002  \n3  Investigation Continuous  14000 RIVERSIDE DR  34.1576 -118.4387  \n4  Investigation Continuous      1900 TRANSIENT  34.0944 -118.3277  ",
      "text/html": "<div>\n<style scoped>\n    .dataframe tbody tr th:only-of-type {\n        vertical-align: middle;\n    }\n\n    .dataframe tbody tr th {\n        vertical-align: top;\n    }\n\n    .dataframe thead th {\n        text-align: right;\n    }\n</style>\n<table border=\"1\" class=\"dataframe\">\n  <thead>\n    <tr style=\"text-align: right;\">\n      <th></th>\n      <th>DATE OCC</th>\n      <th>TIME OCC</th>\n      <th>AREA NAME</th>\n      <th>Crm Cd Desc</th>\n      <th>Vict Age</th>\n      <th>Vict Sex</th>\n      <th>Vict Descent</th>\n      <th>Premis Desc</th>\n      <th>Weapon Desc</th>\n      <th>Status Desc</th>\n      <th>LOCATION</th>\n      <th>LAT</th>\n      <th>LON</th>\n    </tr>\n  </thead>\n  <tbody>\n    <tr>\n      <th>0</th>\n      <td>2020-03-01</td>\n      <td>21:30:00</td>\n      <td>Wilshire</td>\n      <td>VEHICLE - STOLEN</td>\n      <td>0</td>\n      <td>Male</td>\n      <td>Other</td>\n      <td>STREET</td>\n      <td>NaN</td>\n      <td>Adult Arrest</td>\n      <td>1900 S LONGWOOD AV</td>\n      <td>34.0375</td>\n      <td>-118.3506</td>\n    </tr>\n    <tr>\n      <th>1</th>\n      <td>2020-02-08</td>\n      <td>18:00:00</td>\n      <td>Central</td>\n      <td>BURGLARY FROM VEHICLE</td>\n      <td>47</td>\n      <td>Male</td>\n      <td>Other</td>\n      <td>BUS STOP/LAYOVER (ALSO QUERY 124)</td>\n      <td>NaN</td>\n      <td>Investigation Continuous</td>\n      <td>1000 S FLOWER ST</td>\n      <td>34.0444</td>\n      <td>-118.2628</td>\n    </tr>\n    <tr>\n      <th>2</th>\n      <td>2020-11-04</td>\n      <td>17:00:00</td>\n      <td>Southwest</td>\n      <td>BIKE - STOLEN</td>\n      <td>19</td>\n      <td>Unknown</td>\n      <td>Unknown</td>\n      <td>MULTI-UNIT DWELLING (APARTMENT, DUPLEX, ETC)</td>\n      <td>NaN</td>\n      <td>Investigation Continuous</td>\n      <td>1400 W 37TH ST</td>\n      <td>34.0210</td>\n      <td>-118.3002</td>\n    </tr>\n    <tr>\n      <th>3</th>\n      <td>2020-03-10</td>\n      <td>20:37:00</td>\n      <td>Van Nuys</td>\n      <td>SHOPLIFTING-GRAND THEFT ($950.01 &amp; OVER)</td>\n      <td>19</td>\n      <td>Male</td>\n      <td>Other</td>\n      <td>CLOTHING STORE</td>\n      <td>NaN</td>\n      <td>Investigation Continuous</td>\n      <td>14000 RIVERSIDE DR</td>\n      <td>34.1576</td>\n      <td>-118.4387</td>\n    </tr>\n    <tr>\n      <th>4</th>\n      <td>2020-08-17</td>\n      <td>12:00:00</td>\n      <td>Hollywood</td>\n      <td>THEFT OF IDENTITY</td>\n      <td>28</td>\n      <td>Male</td>\n      <td>Hispanic/Latin/Mexican</td>\n      <td>SIDEWALK</td>\n      <td>NaN</td>\n      <td>Investigation Continuous</td>\n      <td>1900 TRANSIENT</td>\n      <td>34.0944</td>\n      <td>-118.3277</td>\n    </tr>\n  </tbody>\n</table>\n</div>"
     },
     "execution_count": 14,
     "metadata": {},
     "output_type": "execute_result"
    }
   ],
   "source": [
    "df.head()"
   ],
   "metadata": {
    "collapsed": false,
    "ExecuteTime": {
     "end_time": "2024-02-21T20:29:50.881235Z",
     "start_time": "2024-02-21T20:29:50.856433Z"
    }
   },
   "id": "7bfb4952b5c85aa9",
   "execution_count": 14
  },
  {
   "cell_type": "code",
   "outputs": [
    {
     "data": {
      "text/plain": "DATE OCC             0\nTIME OCC             0\nAREA NAME            0\nCrm Cd Desc          0\nVict Age             0\nVict Sex        118301\nVict Descent    118309\nPremis Desc        548\nWeapon Desc     583395\nStatus Desc          0\nLOCATION             0\nLAT                  0\nLON                  0\ndtype: int64"
     },
     "execution_count": 15,
     "metadata": {},
     "output_type": "execute_result"
    }
   ],
   "source": [
    "df.isna().sum()"
   ],
   "metadata": {
    "collapsed": false,
    "ExecuteTime": {
     "end_time": "2024-02-21T20:29:53.503957Z",
     "start_time": "2024-02-21T20:29:53.159658Z"
    }
   },
   "id": "fde755803e1daf6b",
   "execution_count": 15
  },
  {
   "cell_type": "code",
   "outputs": [
    {
     "data": {
      "text/plain": "Vict Age\n 0      224056\n 30      20240\n 35      19897\n 31      19372\n 29      19345\n         ...  \n-1          67\n 97         66\n-2          15\n-3           2\n 120         1\nName: count, Length: 103, dtype: int64"
     },
     "execution_count": 16,
     "metadata": {},
     "output_type": "execute_result"
    }
   ],
   "source": [
    "df['Vict Age'].value_counts()"
   ],
   "metadata": {
    "collapsed": false,
    "ExecuteTime": {
     "end_time": "2024-02-21T20:29:57.199895Z",
     "start_time": "2024-02-21T20:29:57.161768Z"
    }
   },
   "id": "4a0b30e67fc72123",
   "execution_count": 16
  },
  {
   "cell_type": "code",
   "outputs": [],
   "source": [
    "import matplotlib.pyplot as plt\n",
    "import seaborn as sns"
   ],
   "metadata": {
    "collapsed": false,
    "ExecuteTime": {
     "end_time": "2024-02-21T20:30:00.715622Z",
     "start_time": "2024-02-21T20:30:00.697624Z"
    }
   },
   "id": "fdd7241c04dc8fed",
   "execution_count": 17
  },
  {
   "cell_type": "code",
   "outputs": [
    {
     "data": {
      "text/plain": "<Figure size 1000x600 with 1 Axes>",
      "image/png": "[encoded data removed]"
     },
     "metadata": {},
     "output_type": "display_data"
    }
   ],
   "source": [
    "plt.figure(figsize=(10, 6))\n",
    "\n",
    "plt.hist(df['Vict Age'], bins=30, edgecolor='black')\n",
    "\n",
    "plt.title('Victim Ages Distribution')\n",
    "plt.xlabel('Age')\n",
    "plt.ylabel('Frequency')\n",
    "\n",
    "plt.grid()\n",
    "plt.show()"
   ],
   "metadata": {
    "collapsed": false,
    "ExecuteTime": {
     "end_time": "2024-02-21T20:30:17.842768Z",
     "start_time": "2024-02-21T20:30:17.332780Z"
    }
   },
   "id": "4a53205e96bffb83",
   "execution_count": 19
  },
  {
   "cell_type": "code",
   "outputs": [],
   "source": [
    "df = df[df['Vict Age'] >= 0]"
   ],
   "metadata": {
    "collapsed": false,
    "ExecuteTime": {
     "end_time": "2024-02-21T20:30:23.800318Z",
     "start_time": "2024-02-21T20:30:22.554350Z"
    }
   },
   "id": "f80b94a02c9d9486",
   "execution_count": 20
  },
  {
   "cell_type": "code",
   "outputs": [
    {
     "data": {
      "text/plain": "Vict Age\n0      224056\n30      20240\n35      19897\n31      19372\n29      19345\n        ...  \n95         93\n96         92\n98         69\n97         66\n120         1\nName: count, Length: 100, dtype: int64"
     },
     "execution_count": 21,
     "metadata": {},
     "output_type": "execute_result"
    }
   ],
   "source": [
    "df['Vict Age'].value_counts()"
   ],
   "metadata": {
    "collapsed": false,
    "ExecuteTime": {
     "end_time": "2024-02-21T20:30:25.571153Z",
     "start_time": "2024-02-21T20:30:25.559010Z"
    }
   },
   "id": "4e072585eebd42b4",
   "execution_count": 21
  },
  {
   "cell_type": "code",
   "outputs": [
    {
     "data": {
      "text/plain": "<Figure size 640x480 with 1 Axes>",
      "image/png": "[encoded data removed]"
     },
     "metadata": {},
     "output_type": "display_data"
    }
   ],
   "source": [
    "sns.boxplot(data=df, x=df[\"Vict Age\"]);\n"
   ],
   "metadata": {
    "collapsed": false,
    "ExecuteTime": {
     "end_time": "2024-02-21T20:31:07.351132Z",
     "start_time": "2024-02-21T20:31:05.304361Z"
    }
   },
   "id": "cd6ea78844812c0c",
   "execution_count": 23
  },
  {
   "cell_type": "code",
   "outputs": [],
   "source": [
    "# Sex Victim\n",
    "values_sex = df['Vict Sex'].value_counts()"
   ],
   "metadata": {
    "collapsed": false,
    "ExecuteTime": {
     "end_time": "2024-02-21T20:34:58.838238Z",
     "start_time": "2024-02-21T20:34:58.827323Z"
    }
   },
   "id": "369fc87dd779ad5",
   "execution_count": 27
  },
  {
   "cell_type": "code",
   "outputs": [
    {
     "data": {
      "text/plain": "Vict Sex\nMale       41.072745\nFemale     36.610965\nUnknown     9.055496\nH           0.010864\n-           0.000112\nName: count, dtype: float64"
     },
     "execution_count": 28,
     "metadata": {},
     "output_type": "execute_result"
    }
   ],
   "source": [
    "percentages = (values_sex / len(df['Vict Sex'])) * 100\n",
    "\n",
    "percentages"
   ],
   "metadata": {
    "collapsed": false,
    "ExecuteTime": {
     "end_time": "2024-02-21T20:35:01.381749Z",
     "start_time": "2024-02-21T20:35:01.359658Z"
    }
   },
   "id": "4fc3a51283a7035d",
   "execution_count": 28
  },
  {
   "cell_type": "code",
   "outputs": [],
   "source": [
    "df = df[df['Vict Age'] >= 0]"
   ],
   "metadata": {
    "collapsed": false
   },
   "id": "a968a265619bb6c"
  },
  {
   "cell_type": "code",
   "outputs": [
    {
     "name": "stdout",
     "output_type": "stream",
     "text": [
      "df shape is: (693599, 13)\n"
     ]
    },
    {
     "data": {
      "text/plain": "Vict Sex\nMale      366718\nFemale    326881\nName: count, dtype: int64"
     },
     "execution_count": 36,
     "metadata": {},
     "output_type": "execute_result"
    }
   ],
   "source": [
    "df = df[df['Vict Sex'].isin(['Male', 'Female'])]\n",
    "\n",
    "print(f'df shape is: {df.shape}')\n",
    "df['Vict Sex'].value_counts()"
   ],
   "metadata": {
    "collapsed": false,
    "ExecuteTime": {
     "end_time": "2024-02-21T20:50:58.140461Z",
     "start_time": "2024-02-21T20:50:56.209081Z"
    }
   },
   "id": "18bd63e4d74f14f0",
   "execution_count": 36
  },
  {
   "cell_type": "code",
   "outputs": [
    {
     "data": {
      "text/plain": "    DATE OCC  TIME OCC  AREA NAME                               Crm Cd Desc  \\\n0 2020-03-01  21:30:00   Wilshire                          VEHICLE - STOLEN   \n1 2020-02-08  18:00:00    Central                     BURGLARY FROM VEHICLE   \n3 2020-03-10  20:37:00   Van Nuys  SHOPLIFTING-GRAND THEFT ($950.01 & OVER)   \n4 2020-08-17  12:00:00  Hollywood                         THEFT OF IDENTITY   \n5 2020-12-01  23:00:00  Southeast                         THEFT OF IDENTITY   \n\n   Vict Age Vict Sex            Vict Descent  \\\n0         0     Male                   Other   \n1        47     Male                   Other   \n3        19     Male                   Other   \n4        28     Male  Hispanic/Latin/Mexican   \n5        41     Male  Hispanic/Latin/Mexican   \n\n                         Premis Desc Weapon Desc               Status Desc  \\\n0                             STREET         NaN              Adult Arrest   \n1  BUS STOP/LAYOVER (ALSO QUERY 124)         NaN  Investigation Continuous   \n3                     CLOTHING STORE         NaN  Investigation Continuous   \n4                           SIDEWALK         NaN  Investigation Continuous   \n5             SINGLE FAMILY DWELLING         NaN  Investigation Continuous   \n\n             LOCATION      LAT       LON  \n0  1900 S LONGWOOD AV  34.0375 -118.3506  \n1    1000 S FLOWER ST  34.0444 -118.2628  \n3  14000 RIVERSIDE DR  34.1576 -118.4387  \n4      1900 TRANSIENT  34.0944 -118.3277  \n5     9900 COMPTON AV  33.9467 -118.2463  ",
      "text/html": "<div>\n<style scoped>\n    .dataframe tbody tr th:only-of-type {\n        vertical-align: middle;\n    }\n\n    .dataframe tbody tr th {\n        vertical-align: top;\n    }\n\n    .dataframe thead th {\n        text-align: right;\n    }\n</style>\n<table border=\"1\" class=\"dataframe\">\n  <thead>\n    <tr style=\"text-align: right;\">\n      <th></th>\n      <th>DATE OCC</th>\n      <th>TIME OCC</th>\n      <th>AREA NAME</th>\n      <th>Crm Cd Desc</th>\n      <th>Vict Age</th>\n      <th>Vict Sex</th>\n      <th>Vict Descent</th>\n      <th>Premis Desc</th>\n      <th>Weapon Desc</th>\n      <th>Status Desc</th>\n      <th>LOCATION</th>\n      <th>LAT</th>\n      <th>LON</th>\n    </tr>\n  </thead>\n  <tbody>\n    <tr>\n      <th>0</th>\n      <td>2020-03-01</td>\n      <td>21:30:00</td>\n      <td>Wilshire</td>\n      <td>VEHICLE - STOLEN</td>\n      <td>0</td>\n      <td>Male</td>\n      <td>Other</td>\n      <td>STREET</td>\n      <td>NaN</td>\n      <td>Adult Arrest</td>\n      <td>1900 S LONGWOOD AV</td>\n      <td>34.0375</td>\n      <td>-118.3506</td>\n    </tr>\n    <tr>\n      <th>1</th>\n      <td>2020-02-08</td>\n      <td>18:00:00</td>\n      <td>Central</td>\n      <td>BURGLARY FROM VEHICLE</td>\n      <td>47</td>\n      <td>Male</td>\n      <td>Other</td>\n      <td>BUS STOP/LAYOVER (ALSO QUERY 124)</td>\n      <td>NaN</td>\n      <td>Investigation Continuous</td>\n      <td>1000 S FLOWER ST</td>\n      <td>34.0444</td>\n      <td>-118.2628</td>\n    </tr>\n    <tr>\n      <th>3</th>\n      <td>2020-03-10</td>\n      <td>20:37:00</td>\n      <td>Van Nuys</td>\n      <td>SHOPLIFTING-GRAND THEFT ($950.01 &amp; OVER)</td>\n      <td>19</td>\n      <td>Male</td>\n      <td>Other</td>\n      <td>CLOTHING STORE</td>\n      <td>NaN</td>\n      <td>Investigation Continuous</td>\n      <td>14000 RIVERSIDE DR</td>\n      <td>34.1576</td>\n      <td>-118.4387</td>\n    </tr>\n    <tr>\n      <th>4</th>\n      <td>2020-08-17</td>\n      <td>12:00:00</td>\n      <td>Hollywood</td>\n      <td>THEFT OF IDENTITY</td>\n      <td>28</td>\n      <td>Male</td>\n      <td>Hispanic/Latin/Mexican</td>\n      <td>SIDEWALK</td>\n      <td>NaN</td>\n      <td>Investigation Continuous</td>\n      <td>1900 TRANSIENT</td>\n      <td>34.0944</td>\n      <td>-118.3277</td>\n    </tr>\n    <tr>\n      <th>5</th>\n      <td>2020-12-01</td>\n      <td>23:00:00</td>\n      <td>Southeast</td>\n      <td>THEFT OF IDENTITY</td>\n      <td>41</td>\n      <td>Male</td>\n      <td>Hispanic/Latin/Mexican</td>\n      <td>SINGLE FAMILY DWELLING</td>\n      <td>NaN</td>\n      <td>Investigation Continuous</td>\n      <td>9900 COMPTON AV</td>\n      <td>33.9467</td>\n      <td>-118.2463</td>\n    </tr>\n  </tbody>\n</table>\n</div>"
     },
     "execution_count": 38,
     "metadata": {},
     "output_type": "execute_result"
    }
   ],
   "source": [
    "df.head()"
   ],
   "metadata": {
    "collapsed": false,
    "ExecuteTime": {
     "end_time": "2024-02-21T20:52:13.433945Z",
     "start_time": "2024-02-21T20:52:13.388325Z"
    }
   },
   "id": "5df7e6263a690ac3",
   "execution_count": 38
  },
  {
   "cell_type": "code",
   "outputs": [
    {
     "data": {
      "text/plain": "Status Desc\nInvestigation Continuous    535625\nAdult Other                  89933\nAdult Arrest                 64243\nJuvenile Arrest               2403\nJuvenile Other                1391\nUnknown                          4\nName: count, dtype: int64"
     },
     "execution_count": 40,
     "metadata": {},
     "output_type": "execute_result"
    }
   ],
   "source": [
    "df['Status Desc'].value_counts()"
   ],
   "metadata": {
    "collapsed": false,
    "ExecuteTime": {
     "end_time": "2024-02-21T20:53:54.152494Z",
     "start_time": "2024-02-21T20:53:54.144291Z"
    }
   },
   "id": "cd65ff74f7394a45",
   "execution_count": 40
  },
  {
   "cell_type": "code",
   "outputs": [
    {
     "data": {
      "text/plain": "Status Desc\nInvestigation Continuous    535625\nAdult Other                  89933\nAdult Arrest                 64243\nJuvenile Arrest               2403\nJuvenile Other                1391\nName: count, dtype: int64"
     },
     "execution_count": 41,
     "metadata": {},
     "output_type": "execute_result"
    }
   ],
   "source": [
    "# Status Desc\n",
    "df = df[df['Status Desc'] != 'Unknown']\n",
    "\n",
    "df['Status Desc'].value_counts()"
   ],
   "metadata": {
    "collapsed": false,
    "ExecuteTime": {
     "end_time": "2024-02-21T20:56:24.569896Z",
     "start_time": "2024-02-21T20:56:22.806277Z"
    }
   },
   "id": "6b10e42cc6062146",
   "execution_count": 41
  },
  {
   "cell_type": "markdown",
   "source": [
    "## Save File"
   ],
   "metadata": {
    "collapsed": false
   },
   "id": "869181c62f5897fc"
  },
  {
   "cell_type": "code",
   "outputs": [],
   "source": [
    "csv_file_path = '../data/cleaned_data-crime.csv'\n",
    "df.to_csv(csv_file_path, index=False)\n"
   ],
   "metadata": {
    "collapsed": false,
    "ExecuteTime": {
     "end_time": "2024-02-21T20:59:22.014976Z",
     "start_time": "2024-02-21T20:59:13.180653Z"
    }
   },
   "id": "8726857aa53c159d",
   "execution_count": 42
  }
 ],
 "metadata": {
  "kernelspec": {
   "display_name": "Python 3",
   "language": "python",
   "name": "python3"
  },
  "language_info": {
   "codemirror_mode": {
    "name": "ipython",
    "version": 2
   },
   "file_extension": ".py",
   "mimetype": "text/x-python",
   "name": "python",
   "nbconvert_exporter": "python",
   "pygments_lexer": "ipython2",
   "version": "2.7.6"
  }
 },
 "nbformat": 4,
 "nbformat_minor": 5
}
