{
 "cells": [
  {
   "cell_type": "code",
   "execution_count": 21,
   "id": "initial_id",
   "metadata": {
    "collapsed": true,
    "ExecuteTime": {
     "end_time": "2024-02-27T06:27:18.047261Z",
     "start_time": "2024-02-27T06:27:16.549359Z"
    }
   },
   "outputs": [],
   "source": [
    "import pandas as pd\n",
    "import geopandas as gpd\n",
    "import matplotlib.pyplot as plt\n",
    "from shapely.geometry import Point"
   ]
  },
  {
   "cell_type": "code",
   "outputs": [],
   "source": [
    "polygons_gdf = gpd.read_file('../assets/Council_Districts/Council_Districts.shp', encoding='utf8')"
   ],
   "metadata": {
    "collapsed": false,
    "ExecuteTime": {
     "end_time": "2024-02-27T06:01:02.910384Z",
     "start_time": "2024-02-27T06:01:02.804909Z"
    }
   },
   "id": "9b5368781140f65f",
   "execution_count": 6
  },
  {
   "cell_type": "code",
   "outputs": [
    {
     "data": {
      "text/plain": "    OBJECTID                     NAME  District                    Dist_Name  \\\n0          1       Eunisses Hernandez         1       1 - Eunisses Hernandez   \n1          2           Paul Krekorian         2           2 - Paul Krekorian   \n2          3          Bob Blumenfield         3          3 - Bob Blumenfield   \n3          4             Nithya Raman         4             4 - Nithya Raman   \n4          5         Katy Yaroslavsky         5         5 - Katy Yaroslavsky   \n5          6           Imelda Padilla         6           6 - Imelda Padilla   \n6          7         Monica Rodriguez         7         7 - Monica Rodriguez   \n7          8  Marqueece Harris-Dawson         8  8 - Marqueece Harris-Dawson   \n8          9      Curren D. Price Jr.         9      9 - Curren D. Price Jr.   \n9         10             Heather Hutt        10            10 - Heather Hutt   \n10        11               Traci Park        11              11 - Traci Park   \n11        12                 John Lee        12                12 - John Lee   \n12        13       Hugo Soto-Martinez        13      13 - Hugo Soto-Martinez   \n13        14            Kevin de León        14           14 - Kevin de León   \n14        15              Tim McOsker        15             15 - Tim McOsker   \n\n                                             geometry  \n0   POLYGON ((6480273.222 1839488.399, 6480211.864...  \n1   POLYGON ((6459694.887 1902991.456, 6460526.739...  \n2   POLYGON ((6395647.002 1903090.407, 6395646.918...  \n3   POLYGON ((6404871.571 1898627.766, 6404866.237...  \n4   POLYGON ((6443136.993 1863527.133, 6442919.776...  \n5   POLYGON ((6451238.597 1905812.106, 6452300.399...  \n6   POLYGON ((6459694.887 1902991.456, 6459010.580...  \n7   POLYGON ((6470694.238 1836040.563, 6471134.523...  \n8   POLYGON ((6489023.277 1827853.077, 6489008.234...  \n9   POLYGON ((6474480.262 1847607.973, 6474481.580...  \n10  POLYGON ((6416246.478 1869985.914, 6416246.112...  \n11  POLYGON ((6418701.112 1907124.586, 6418688.060...  \n12  POLYGON ((6477261.344 1878253.078, 6478289.197...  \n13  POLYGON ((6489023.277 1827853.077, 6489023.058...  \n14  POLYGON ((6473186.768 1796562.219, 6474615.679...  ",
      "text/html": "<div>\n<style scoped>\n    .dataframe tbody tr th:only-of-type {\n        vertical-align: middle;\n    }\n\n    .dataframe tbody tr th {\n        vertical-align: top;\n    }\n\n    .dataframe thead th {\n        text-align: right;\n    }\n</style>\n<table border=\"1\" class=\"dataframe\">\n  <thead>\n    <tr style=\"text-align: right;\">\n      <th></th>\n      <th>OBJECTID</th>\n      <th>NAME</th>\n      <th>District</th>\n      <th>Dist_Name</th>\n      <th>geometry</th>\n    </tr>\n  </thead>\n  <tbody>\n    <tr>\n      <th>0</th>\n      <td>1</td>\n      <td>Eunisses Hernandez</td>\n      <td>1</td>\n      <td>1 - Eunisses Hernandez</td>\n      <td>POLYGON ((6480273.222 1839488.399, 6480211.864...</td>\n    </tr>\n    <tr>\n      <th>1</th>\n      <td>2</td>\n      <td>Paul Krekorian</td>\n      <td>2</td>\n      <td>2 - Paul Krekorian</td>\n      <td>POLYGON ((6459694.887 1902991.456, 6460526.739...</td>\n    </tr>\n    <tr>\n      <th>2</th>\n      <td>3</td>\n      <td>Bob Blumenfield</td>\n      <td>3</td>\n      <td>3 - Bob Blumenfield</td>\n      <td>POLYGON ((6395647.002 1903090.407, 6395646.918...</td>\n    </tr>\n    <tr>\n      <th>3</th>\n      <td>4</td>\n      <td>Nithya Raman</td>\n      <td>4</td>\n      <td>4 - Nithya Raman</td>\n      <td>POLYGON ((6404871.571 1898627.766, 6404866.237...</td>\n    </tr>\n    <tr>\n      <th>4</th>\n      <td>5</td>\n      <td>Katy Yaroslavsky</td>\n      <td>5</td>\n      <td>5 - Katy Yaroslavsky</td>\n      <td>POLYGON ((6443136.993 1863527.133, 6442919.776...</td>\n    </tr>\n    <tr>\n      <th>5</th>\n      <td>6</td>\n      <td>Imelda Padilla</td>\n      <td>6</td>\n      <td>6 - Imelda Padilla</td>\n      <td>POLYGON ((6451238.597 1905812.106, 6452300.399...</td>\n    </tr>\n    <tr>\n      <th>6</th>\n      <td>7</td>\n      <td>Monica Rodriguez</td>\n      <td>7</td>\n      <td>7 - Monica Rodriguez</td>\n      <td>POLYGON ((6459694.887 1902991.456, 6459010.580...</td>\n    </tr>\n    <tr>\n      <th>7</th>\n      <td>8</td>\n      <td>Marqueece Harris-Dawson</td>\n      <td>8</td>\n      <td>8 - Marqueece Harris-Dawson</td>\n      <td>POLYGON ((6470694.238 1836040.563, 6471134.523...</td>\n    </tr>\n    <tr>\n      <th>8</th>\n      <td>9</td>\n      <td>Curren D. Price Jr.</td>\n      <td>9</td>\n      <td>9 - Curren D. Price Jr.</td>\n      <td>POLYGON ((6489023.277 1827853.077, 6489008.234...</td>\n    </tr>\n    <tr>\n      <th>9</th>\n      <td>10</td>\n      <td>Heather Hutt</td>\n      <td>10</td>\n      <td>10 - Heather Hutt</td>\n      <td>POLYGON ((6474480.262 1847607.973, 6474481.580...</td>\n    </tr>\n    <tr>\n      <th>10</th>\n      <td>11</td>\n      <td>Traci Park</td>\n      <td>11</td>\n      <td>11 - Traci Park</td>\n      <td>POLYGON ((6416246.478 1869985.914, 6416246.112...</td>\n    </tr>\n    <tr>\n      <th>11</th>\n      <td>12</td>\n      <td>John Lee</td>\n      <td>12</td>\n      <td>12 - John Lee</td>\n      <td>POLYGON ((6418701.112 1907124.586, 6418688.060...</td>\n    </tr>\n    <tr>\n      <th>12</th>\n      <td>13</td>\n      <td>Hugo Soto-Martinez</td>\n      <td>13</td>\n      <td>13 - Hugo Soto-Martinez</td>\n      <td>POLYGON ((6477261.344 1878253.078, 6478289.197...</td>\n    </tr>\n    <tr>\n      <th>13</th>\n      <td>14</td>\n      <td>Kevin de León</td>\n      <td>14</td>\n      <td>14 - Kevin de León</td>\n      <td>POLYGON ((6489023.277 1827853.077, 6489023.058...</td>\n    </tr>\n    <tr>\n      <th>14</th>\n      <td>15</td>\n      <td>Tim McOsker</td>\n      <td>15</td>\n      <td>15 - Tim McOsker</td>\n      <td>POLYGON ((6473186.768 1796562.219, 6474615.679...</td>\n    </tr>\n  </tbody>\n</table>\n</div>"
     },
     "execution_count": 7,
     "metadata": {},
     "output_type": "execute_result"
    }
   ],
   "source": [
    "polygons_gdf"
   ],
   "metadata": {
    "collapsed": false,
    "ExecuteTime": {
     "end_time": "2024-02-27T06:01:03.982403Z",
     "start_time": "2024-02-27T06:01:03.845934Z"
    }
   },
   "id": "d342a5bbaf41d0fc",
   "execution_count": 7
  },
  {
   "cell_type": "code",
   "outputs": [],
   "source": [
    "crimes_df = pd.read_csv('../data/cleaned_data-crime.csv')\n",
    "crimes_gdf = gpd.GeoDataFrame(\n",
    "    crimes_df,\n",
    "    geometry=gpd.points_from_xy(crimes_df.LON, crimes_df.LAT)\n",
    ")"
   ],
   "metadata": {
    "collapsed": false,
    "ExecuteTime": {
     "end_time": "2024-02-27T06:12:31.530424Z",
     "start_time": "2024-02-27T06:12:28.041544Z"
    }
   },
   "id": "1bdd15a4e9e0263c",
   "execution_count": 9
  },
  {
   "cell_type": "code",
   "outputs": [
    {
     "data": {
      "text/plain": "          DATE OCC  TIME OCC  AREA NAME  \\\n0       2020-03-01  21:30:00   Wilshire   \n1       2020-02-08  18:00:00    Central   \n2       2020-03-10  20:37:00   Van Nuys   \n3       2020-08-17  12:00:00  Hollywood   \n4       2020-12-01  23:00:00  Southeast   \n...            ...       ...        ...   \n693590  2024-01-29  23:30:00   Wilshire   \n693591  2024-01-30  22:30:00   Van Nuys   \n693592  2024-01-13  07:20:00   Foothill   \n693593  2024-01-08  08:00:00   Foothill   \n693594  2024-01-16  15:10:00    Olympic   \n\n                                           Crm Cd Desc  Vict Age Vict Sex  \\\n0                                     VEHICLE - STOLEN         0     Male   \n1                                BURGLARY FROM VEHICLE        47     Male   \n2             SHOPLIFTING-GRAND THEFT ($950.01 & OVER)        19     Male   \n3                                    THEFT OF IDENTITY        28     Male   \n4                                    THEFT OF IDENTITY        41     Male   \n...                                                ...       ...      ...   \n693590                BURGLARY FROM VEHICLE, ATTEMPTED        59     Male   \n693591                           BURGLARY FROM VEHICLE        36     Male   \n693592  ASSAULT WITH DEADLY WEAPON, AGGRAVATED ASSAULT        36     Male   \n693593                                   OTHER ASSAULT        42   Female   \n693594                        BATTERY - SIMPLE ASSAULT        80   Female   \n\n                  Vict Descent                        Premis Desc  \\\n0                        Other                             STREET   \n1                        Other  BUS STOP/LAYOVER (ALSO QUERY 124)   \n2                        Other                     CLOTHING STORE   \n3       Hispanic/Latin/Mexican                           SIDEWALK   \n4       Hispanic/Latin/Mexican             SINGLE FAMILY DWELLING   \n...                        ...                                ...   \n693590                   White                             STREET   \n693591                   White                        PARKING LOT   \n693592  Hispanic/Latin/Mexican                             STREET   \n693593  Hispanic/Latin/Mexican                             STREET   \n693594                   Other                           BUS STOP   \n\n                                           Weapon Desc  \\\n0                                                  NaN   \n1                                                  NaN   \n2                                                  NaN   \n3                                                  NaN   \n4                                                  NaN   \n...                                                ...   \n693590                                             NaN   \n693591                                             NaN   \n693592                                     OTHER KNIFE   \n693593  STRONG-ARM (HANDS, FIST, FEET OR BODILY FORCE)   \n693594  STRONG-ARM (HANDS, FIST, FEET OR BODILY FORCE)   \n\n                     Status Desc            LOCATION      LAT       LON  \\\n0                   Adult Arrest  1900 S LONGWOOD AV  34.0375 -118.3506   \n1       Investigation Continuous    1000 S FLOWER ST  34.0444 -118.2628   \n2       Investigation Continuous  14000 RIVERSIDE DR  34.1576 -118.4387   \n3       Investigation Continuous      1900 TRANSIENT  34.0944 -118.3277   \n4       Investigation Continuous     9900 COMPTON AV  33.9467 -118.2463   \n...                          ...                 ...      ...       ...   \n693590  Investigation Continuous   100 S LA JOLLA AV  34.0743 -118.3680   \n693591  Investigation Continuous    15300 SHERMAN WY  34.2012 -118.4725   \n693592  Investigation Continuous  8700 LANKERSHIM BL  34.2271 -118.3878   \n693593  Investigation Continuous           VAUGHN ST  34.2865 -118.4161   \n693594  Investigation Continuous           HOBART BL  34.0690 -118.3054   \n\n                       geometry  \n0       POINT (-118.351 34.038)  \n1       POINT (-118.263 34.044)  \n2       POINT (-118.439 34.158)  \n3       POINT (-118.328 34.094)  \n4       POINT (-118.246 33.947)  \n...                         ...  \n693590  POINT (-118.368 34.074)  \n693591  POINT (-118.472 34.201)  \n693592  POINT (-118.388 34.227)  \n693593  POINT (-118.416 34.286)  \n693594  POINT (-118.305 34.069)  \n\n[693595 rows x 14 columns]",
      "text/html": "<div>\n<style scoped>\n    .dataframe tbody tr th:only-of-type {\n        vertical-align: middle;\n    }\n\n    .dataframe tbody tr th {\n        vertical-align: top;\n    }\n\n    .dataframe thead th {\n        text-align: right;\n    }\n</style>\n<table border=\"1\" class=\"dataframe\">\n  <thead>\n    <tr style=\"text-align: right;\">\n      <th></th>\n      <th>DATE OCC</th>\n      <th>TIME OCC</th>\n      <th>AREA NAME</th>\n      <th>Crm Cd Desc</th>\n      <th>Vict Age</th>\n      <th>Vict Sex</th>\n      <th>Vict Descent</th>\n      <th>Premis Desc</th>\n      <th>Weapon Desc</th>\n      <th>Status Desc</th>\n      <th>LOCATION</th>\n      <th>LAT</th>\n      <th>LON</th>\n      <th>geometry</th>\n    </tr>\n  </thead>\n  <tbody>\n    <tr>\n      <th>0</th>\n      <td>2020-03-01</td>\n      <td>21:30:00</td>\n      <td>Wilshire</td>\n      <td>VEHICLE - STOLEN</td>\n      <td>0</td>\n      <td>Male</td>\n      <td>Other</td>\n      <td>STREET</td>\n      <td>NaN</td>\n      <td>Adult Arrest</td>\n      <td>1900 S LONGWOOD AV</td>\n      <td>34.0375</td>\n      <td>-118.3506</td>\n      <td>POINT (-118.351 34.038)</td>\n    </tr>\n    <tr>\n      <th>1</th>\n      <td>2020-02-08</td>\n      <td>18:00:00</td>\n      <td>Central</td>\n      <td>BURGLARY FROM VEHICLE</td>\n      <td>47</td>\n      <td>Male</td>\n      <td>Other</td>\n      <td>BUS STOP/LAYOVER (ALSO QUERY 124)</td>\n      <td>NaN</td>\n      <td>Investigation Continuous</td>\n      <td>1000 S FLOWER ST</td>\n      <td>34.0444</td>\n      <td>-118.2628</td>\n      <td>POINT (-118.263 34.044)</td>\n    </tr>\n    <tr>\n      <th>2</th>\n      <td>2020-03-10</td>\n      <td>20:37:00</td>\n      <td>Van Nuys</td>\n      <td>SHOPLIFTING-GRAND THEFT ($950.01 &amp; OVER)</td>\n      <td>19</td>\n      <td>Male</td>\n      <td>Other</td>\n      <td>CLOTHING STORE</td>\n      <td>NaN</td>\n      <td>Investigation Continuous</td>\n      <td>14000 RIVERSIDE DR</td>\n      <td>34.1576</td>\n      <td>-118.4387</td>\n      <td>POINT (-118.439 34.158)</td>\n    </tr>\n    <tr>\n      <th>3</th>\n      <td>2020-08-17</td>\n      <td>12:00:00</td>\n      <td>Hollywood</td>\n      <td>THEFT OF IDENTITY</td>\n      <td>28</td>\n      <td>Male</td>\n      <td>Hispanic/Latin/Mexican</td>\n      <td>SIDEWALK</td>\n      <td>NaN</td>\n      <td>Investigation Continuous</td>\n      <td>1900 TRANSIENT</td>\n      <td>34.0944</td>\n      <td>-118.3277</td>\n      <td>POINT (-118.328 34.094)</td>\n    </tr>\n    <tr>\n      <th>4</th>\n      <td>2020-12-01</td>\n      <td>23:00:00</td>\n      <td>Southeast</td>\n      <td>THEFT OF IDENTITY</td>\n      <td>41</td>\n      <td>Male</td>\n      <td>Hispanic/Latin/Mexican</td>\n      <td>SINGLE FAMILY DWELLING</td>\n      <td>NaN</td>\n      <td>Investigation Continuous</td>\n      <td>9900 COMPTON AV</td>\n      <td>33.9467</td>\n      <td>-118.2463</td>\n      <td>POINT (-118.246 33.947)</td>\n    </tr>\n    <tr>\n      <th>...</th>\n      <td>...</td>\n      <td>...</td>\n      <td>...</td>\n      <td>...</td>\n      <td>...</td>\n      <td>...</td>\n      <td>...</td>\n      <td>...</td>\n      <td>...</td>\n      <td>...</td>\n      <td>...</td>\n      <td>...</td>\n      <td>...</td>\n      <td>...</td>\n    </tr>\n    <tr>\n      <th>693590</th>\n      <td>2024-01-29</td>\n      <td>23:30:00</td>\n      <td>Wilshire</td>\n      <td>BURGLARY FROM VEHICLE, ATTEMPTED</td>\n      <td>59</td>\n      <td>Male</td>\n      <td>White</td>\n      <td>STREET</td>\n      <td>NaN</td>\n      <td>Investigation Continuous</td>\n      <td>100 S LA JOLLA AV</td>\n      <td>34.0743</td>\n      <td>-118.3680</td>\n      <td>POINT (-118.368 34.074)</td>\n    </tr>\n    <tr>\n      <th>693591</th>\n      <td>2024-01-30</td>\n      <td>22:30:00</td>\n      <td>Van Nuys</td>\n      <td>BURGLARY FROM VEHICLE</td>\n      <td>36</td>\n      <td>Male</td>\n      <td>White</td>\n      <td>PARKING LOT</td>\n      <td>NaN</td>\n      <td>Investigation Continuous</td>\n      <td>15300 SHERMAN WY</td>\n      <td>34.2012</td>\n      <td>-118.4725</td>\n      <td>POINT (-118.472 34.201)</td>\n    </tr>\n    <tr>\n      <th>693592</th>\n      <td>2024-01-13</td>\n      <td>07:20:00</td>\n      <td>Foothill</td>\n      <td>ASSAULT WITH DEADLY WEAPON, AGGRAVATED ASSAULT</td>\n      <td>36</td>\n      <td>Male</td>\n      <td>Hispanic/Latin/Mexican</td>\n      <td>STREET</td>\n      <td>OTHER KNIFE</td>\n      <td>Investigation Continuous</td>\n      <td>8700 LANKERSHIM BL</td>\n      <td>34.2271</td>\n      <td>-118.3878</td>\n      <td>POINT (-118.388 34.227)</td>\n    </tr>\n    <tr>\n      <th>693593</th>\n      <td>2024-01-08</td>\n      <td>08:00:00</td>\n      <td>Foothill</td>\n      <td>OTHER ASSAULT</td>\n      <td>42</td>\n      <td>Female</td>\n      <td>Hispanic/Latin/Mexican</td>\n      <td>STREET</td>\n      <td>STRONG-ARM (HANDS, FIST, FEET OR BODILY FORCE)</td>\n      <td>Investigation Continuous</td>\n      <td>VAUGHN ST</td>\n      <td>34.2865</td>\n      <td>-118.4161</td>\n      <td>POINT (-118.416 34.286)</td>\n    </tr>\n    <tr>\n      <th>693594</th>\n      <td>2024-01-16</td>\n      <td>15:10:00</td>\n      <td>Olympic</td>\n      <td>BATTERY - SIMPLE ASSAULT</td>\n      <td>80</td>\n      <td>Female</td>\n      <td>Other</td>\n      <td>BUS STOP</td>\n      <td>STRONG-ARM (HANDS, FIST, FEET OR BODILY FORCE)</td>\n      <td>Investigation Continuous</td>\n      <td>HOBART BL</td>\n      <td>34.0690</td>\n      <td>-118.3054</td>\n      <td>POINT (-118.305 34.069)</td>\n    </tr>\n  </tbody>\n</table>\n<p>693595 rows × 14 columns</p>\n</div>"
     },
     "execution_count": 11,
     "metadata": {},
     "output_type": "execute_result"
    }
   ],
   "source": [
    "crimes_gdf.set_crs(polygons_gdf.crs, inplace=True)"
   ],
   "metadata": {
    "collapsed": false,
    "ExecuteTime": {
     "end_time": "2024-02-27T06:14:16.999872Z",
     "start_time": "2024-02-27T06:14:16.932186Z"
    }
   },
   "id": "251997518f631aeb",
   "execution_count": 11
  },
  {
   "cell_type": "code",
   "outputs": [],
   "source": [
    "joined_gdf = gpd.sjoin(crimes_gdf, polygons_gdf, how=\"left\", predicate='intersects')"
   ],
   "metadata": {
    "collapsed": false,
    "ExecuteTime": {
     "end_time": "2024-02-27T06:19:17.782167Z",
     "start_time": "2024-02-27T06:19:15.989220Z"
    }
   },
   "id": "75342cbd722e6d36",
   "execution_count": 13
  },
  {
   "cell_type": "code",
   "outputs": [],
   "source": [
    "joined_gdf.to_csv('joined_data.csv', index=False)"
   ],
   "metadata": {
    "collapsed": false,
    "ExecuteTime": {
     "end_time": "2024-02-27T06:19:45.210100Z",
     "start_time": "2024-02-27T06:19:29.424828Z"
    }
   },
   "id": "7ae8e92f48eb6d62",
   "execution_count": 14
  },
  {
   "cell_type": "code",
   "outputs": [
    {
     "data": {
      "text/plain": "          DATE OCC  TIME OCC  AREA NAME  \\\n0       2020-03-01  21:30:00   Wilshire   \n1       2020-02-08  18:00:00    Central   \n2       2020-03-10  20:37:00   Van Nuys   \n3       2020-08-17  12:00:00  Hollywood   \n4       2020-12-01  23:00:00  Southeast   \n...            ...       ...        ...   \n693590  2024-01-29  23:30:00   Wilshire   \n693591  2024-01-30  22:30:00   Van Nuys   \n693592  2024-01-13  07:20:00   Foothill   \n693593  2024-01-08  08:00:00   Foothill   \n693594  2024-01-16  15:10:00    Olympic   \n\n                                           Crm Cd Desc  Vict Age Vict Sex  \\\n0                                     VEHICLE - STOLEN         0     Male   \n1                                BURGLARY FROM VEHICLE        47     Male   \n2             SHOPLIFTING-GRAND THEFT ($950.01 & OVER)        19     Male   \n3                                    THEFT OF IDENTITY        28     Male   \n4                                    THEFT OF IDENTITY        41     Male   \n...                                                ...       ...      ...   \n693590                BURGLARY FROM VEHICLE, ATTEMPTED        59     Male   \n693591                           BURGLARY FROM VEHICLE        36     Male   \n693592  ASSAULT WITH DEADLY WEAPON, AGGRAVATED ASSAULT        36     Male   \n693593                                   OTHER ASSAULT        42   Female   \n693594                        BATTERY - SIMPLE ASSAULT        80   Female   \n\n                  Vict Descent                        Premis Desc  \\\n0                        Other                             STREET   \n1                        Other  BUS STOP/LAYOVER (ALSO QUERY 124)   \n2                        Other                     CLOTHING STORE   \n3       Hispanic/Latin/Mexican                           SIDEWALK   \n4       Hispanic/Latin/Mexican             SINGLE FAMILY DWELLING   \n...                        ...                                ...   \n693590                   White                             STREET   \n693591                   White                        PARKING LOT   \n693592  Hispanic/Latin/Mexican                             STREET   \n693593  Hispanic/Latin/Mexican                             STREET   \n693594                   Other                           BUS STOP   \n\n                                           Weapon Desc  \\\n0                                                  NaN   \n1                                                  NaN   \n2                                                  NaN   \n3                                                  NaN   \n4                                                  NaN   \n...                                                ...   \n693590                                             NaN   \n693591                                             NaN   \n693592                                     OTHER KNIFE   \n693593  STRONG-ARM (HANDS, FIST, FEET OR BODILY FORCE)   \n693594  STRONG-ARM (HANDS, FIST, FEET OR BODILY FORCE)   \n\n                     Status Desc            LOCATION      LAT       LON  \\\n0                   Adult Arrest  1900 S LONGWOOD AV  34.0375 -118.3506   \n1       Investigation Continuous    1000 S FLOWER ST  34.0444 -118.2628   \n2       Investigation Continuous  14000 RIVERSIDE DR  34.1576 -118.4387   \n3       Investigation Continuous      1900 TRANSIENT  34.0944 -118.3277   \n4       Investigation Continuous     9900 COMPTON AV  33.9467 -118.2463   \n...                          ...                 ...      ...       ...   \n693590  Investigation Continuous   100 S LA JOLLA AV  34.0743 -118.3680   \n693591  Investigation Continuous    15300 SHERMAN WY  34.2012 -118.4725   \n693592  Investigation Continuous  8700 LANKERSHIM BL  34.2271 -118.3878   \n693593  Investigation Continuous           VAUGHN ST  34.2865 -118.4161   \n693594  Investigation Continuous           HOBART BL  34.0690 -118.3054   \n\n                         geometry  index_right  OBJECTID  NAME  District  \\\n0       POINT (-118.3506 34.0375)          NaN       NaN   NaN       NaN   \n1       POINT (-118.2628 34.0444)          NaN       NaN   NaN       NaN   \n2       POINT (-118.4387 34.1576)          NaN       NaN   NaN       NaN   \n3       POINT (-118.3277 34.0944)          NaN       NaN   NaN       NaN   \n4       POINT (-118.2463 33.9467)          NaN       NaN   NaN       NaN   \n...                           ...          ...       ...   ...       ...   \n693590   POINT (-118.368 34.0743)          NaN       NaN   NaN       NaN   \n693591  POINT (-118.4725 34.2012)          NaN       NaN   NaN       NaN   \n693592  POINT (-118.3878 34.2271)          NaN       NaN   NaN       NaN   \n693593  POINT (-118.4161 34.2865)          NaN       NaN   NaN       NaN   \n693594   POINT (-118.3054 34.069)          NaN       NaN   NaN       NaN   \n\n        Dist_Name  \n0             NaN  \n1             NaN  \n2             NaN  \n3             NaN  \n4             NaN  \n...           ...  \n693590        NaN  \n693591        NaN  \n693592        NaN  \n693593        NaN  \n693594        NaN  \n\n[693595 rows x 19 columns]",
      "text/html": "<div>\n<style scoped>\n    .dataframe tbody tr th:only-of-type {\n        vertical-align: middle;\n    }\n\n    .dataframe tbody tr th {\n        vertical-align: top;\n    }\n\n    .dataframe thead th {\n        text-align: right;\n    }\n</style>\n<table border=\"1\" class=\"dataframe\">\n  <thead>\n    <tr style=\"text-align: right;\">\n      <th></th>\n      <th>DATE OCC</th>\n      <th>TIME OCC</th>\n      <th>AREA NAME</th>\n      <th>Crm Cd Desc</th>\n      <th>Vict Age</th>\n      <th>Vict Sex</th>\n      <th>Vict Descent</th>\n      <th>Premis Desc</th>\n      <th>Weapon Desc</th>\n      <th>Status Desc</th>\n      <th>LOCATION</th>\n      <th>LAT</th>\n      <th>LON</th>\n      <th>geometry</th>\n      <th>index_right</th>\n      <th>OBJECTID</th>\n      <th>NAME</th>\n      <th>District</th>\n      <th>Dist_Name</th>\n    </tr>\n  </thead>\n  <tbody>\n    <tr>\n      <th>0</th>\n      <td>2020-03-01</td>\n      <td>21:30:00</td>\n      <td>Wilshire</td>\n      <td>VEHICLE - STOLEN</td>\n      <td>0</td>\n      <td>Male</td>\n      <td>Other</td>\n      <td>STREET</td>\n      <td>NaN</td>\n      <td>Adult Arrest</td>\n      <td>1900 S LONGWOOD AV</td>\n      <td>34.0375</td>\n      <td>-118.3506</td>\n      <td>POINT (-118.3506 34.0375)</td>\n      <td>NaN</td>\n      <td>NaN</td>\n      <td>NaN</td>\n      <td>NaN</td>\n      <td>NaN</td>\n    </tr>\n    <tr>\n      <th>1</th>\n      <td>2020-02-08</td>\n      <td>18:00:00</td>\n      <td>Central</td>\n      <td>BURGLARY FROM VEHICLE</td>\n      <td>47</td>\n      <td>Male</td>\n      <td>Other</td>\n      <td>BUS STOP/LAYOVER (ALSO QUERY 124)</td>\n      <td>NaN</td>\n      <td>Investigation Continuous</td>\n      <td>1000 S FLOWER ST</td>\n      <td>34.0444</td>\n      <td>-118.2628</td>\n      <td>POINT (-118.2628 34.0444)</td>\n      <td>NaN</td>\n      <td>NaN</td>\n      <td>NaN</td>\n      <td>NaN</td>\n      <td>NaN</td>\n    </tr>\n    <tr>\n      <th>2</th>\n      <td>2020-03-10</td>\n      <td>20:37:00</td>\n      <td>Van Nuys</td>\n      <td>SHOPLIFTING-GRAND THEFT ($950.01 &amp; OVER)</td>\n      <td>19</td>\n      <td>Male</td>\n      <td>Other</td>\n      <td>CLOTHING STORE</td>\n      <td>NaN</td>\n      <td>Investigation Continuous</td>\n      <td>14000 RIVERSIDE DR</td>\n      <td>34.1576</td>\n      <td>-118.4387</td>\n      <td>POINT (-118.4387 34.1576)</td>\n      <td>NaN</td>\n      <td>NaN</td>\n      <td>NaN</td>\n      <td>NaN</td>\n      <td>NaN</td>\n    </tr>\n    <tr>\n      <th>3</th>\n      <td>2020-08-17</td>\n      <td>12:00:00</td>\n      <td>Hollywood</td>\n      <td>THEFT OF IDENTITY</td>\n      <td>28</td>\n      <td>Male</td>\n      <td>Hispanic/Latin/Mexican</td>\n      <td>SIDEWALK</td>\n      <td>NaN</td>\n      <td>Investigation Continuous</td>\n      <td>1900 TRANSIENT</td>\n      <td>34.0944</td>\n      <td>-118.3277</td>\n      <td>POINT (-118.3277 34.0944)</td>\n      <td>NaN</td>\n      <td>NaN</td>\n      <td>NaN</td>\n      <td>NaN</td>\n      <td>NaN</td>\n    </tr>\n    <tr>\n      <th>4</th>\n      <td>2020-12-01</td>\n      <td>23:00:00</td>\n      <td>Southeast</td>\n      <td>THEFT OF IDENTITY</td>\n      <td>41</td>\n      <td>Male</td>\n      <td>Hispanic/Latin/Mexican</td>\n      <td>SINGLE FAMILY DWELLING</td>\n      <td>NaN</td>\n      <td>Investigation Continuous</td>\n      <td>9900 COMPTON AV</td>\n      <td>33.9467</td>\n      <td>-118.2463</td>\n      <td>POINT (-118.2463 33.9467)</td>\n      <td>NaN</td>\n      <td>NaN</td>\n      <td>NaN</td>\n      <td>NaN</td>\n      <td>NaN</td>\n    </tr>\n    <tr>\n      <th>...</th>\n      <td>...</td>\n      <td>...</td>\n      <td>...</td>\n      <td>...</td>\n      <td>...</td>\n      <td>...</td>\n      <td>...</td>\n      <td>...</td>\n      <td>...</td>\n      <td>...</td>\n      <td>...</td>\n      <td>...</td>\n      <td>...</td>\n      <td>...</td>\n      <td>...</td>\n      <td>...</td>\n      <td>...</td>\n      <td>...</td>\n      <td>...</td>\n    </tr>\n    <tr>\n      <th>693590</th>\n      <td>2024-01-29</td>\n      <td>23:30:00</td>\n      <td>Wilshire</td>\n      <td>BURGLARY FROM VEHICLE, ATTEMPTED</td>\n      <td>59</td>\n      <td>Male</td>\n      <td>White</td>\n      <td>STREET</td>\n      <td>NaN</td>\n      <td>Investigation Continuous</td>\n      <td>100 S LA JOLLA AV</td>\n      <td>34.0743</td>\n      <td>-118.3680</td>\n      <td>POINT (-118.368 34.0743)</td>\n      <td>NaN</td>\n      <td>NaN</td>\n      <td>NaN</td>\n      <td>NaN</td>\n      <td>NaN</td>\n    </tr>\n    <tr>\n      <th>693591</th>\n      <td>2024-01-30</td>\n      <td>22:30:00</td>\n      <td>Van Nuys</td>\n      <td>BURGLARY FROM VEHICLE</td>\n      <td>36</td>\n      <td>Male</td>\n      <td>White</td>\n      <td>PARKING LOT</td>\n      <td>NaN</td>\n      <td>Investigation Continuous</td>\n      <td>15300 SHERMAN WY</td>\n      <td>34.2012</td>\n      <td>-118.4725</td>\n      <td>POINT (-118.4725 34.2012)</td>\n      <td>NaN</td>\n      <td>NaN</td>\n      <td>NaN</td>\n      <td>NaN</td>\n      <td>NaN</td>\n    </tr>\n    <tr>\n      <th>693592</th>\n      <td>2024-01-13</td>\n      <td>07:20:00</td>\n      <td>Foothill</td>\n      <td>ASSAULT WITH DEADLY WEAPON, AGGRAVATED ASSAULT</td>\n      <td>36</td>\n      <td>Male</td>\n      <td>Hispanic/Latin/Mexican</td>\n      <td>STREET</td>\n      <td>OTHER KNIFE</td>\n      <td>Investigation Continuous</td>\n      <td>8700 LANKERSHIM BL</td>\n      <td>34.2271</td>\n      <td>-118.3878</td>\n      <td>POINT (-118.3878 34.2271)</td>\n      <td>NaN</td>\n      <td>NaN</td>\n      <td>NaN</td>\n      <td>NaN</td>\n      <td>NaN</td>\n    </tr>\n    <tr>\n      <th>693593</th>\n      <td>2024-01-08</td>\n      <td>08:00:00</td>\n      <td>Foothill</td>\n      <td>OTHER ASSAULT</td>\n      <td>42</td>\n      <td>Female</td>\n      <td>Hispanic/Latin/Mexican</td>\n      <td>STREET</td>\n      <td>STRONG-ARM (HANDS, FIST, FEET OR BODILY FORCE)</td>\n      <td>Investigation Continuous</td>\n      <td>VAUGHN ST</td>\n      <td>34.2865</td>\n      <td>-118.4161</td>\n      <td>POINT (-118.4161 34.2865)</td>\n      <td>NaN</td>\n      <td>NaN</td>\n      <td>NaN</td>\n      <td>NaN</td>\n      <td>NaN</td>\n    </tr>\n    <tr>\n      <th>693594</th>\n      <td>2024-01-16</td>\n      <td>15:10:00</td>\n      <td>Olympic</td>\n      <td>BATTERY - SIMPLE ASSAULT</td>\n      <td>80</td>\n      <td>Female</td>\n      <td>Other</td>\n      <td>BUS STOP</td>\n      <td>STRONG-ARM (HANDS, FIST, FEET OR BODILY FORCE)</td>\n      <td>Investigation Continuous</td>\n      <td>HOBART BL</td>\n      <td>34.0690</td>\n      <td>-118.3054</td>\n      <td>POINT (-118.3054 34.069)</td>\n      <td>NaN</td>\n      <td>NaN</td>\n      <td>NaN</td>\n      <td>NaN</td>\n      <td>NaN</td>\n    </tr>\n  </tbody>\n</table>\n<p>693595 rows × 19 columns</p>\n</div>"
     },
     "execution_count": 16,
     "metadata": {},
     "output_type": "execute_result"
    }
   ],
   "source": [
    "df_joined = pd.read_csv(\"../data/joined_data.csv\")\n",
    "df_joined"
   ],
   "metadata": {
    "collapsed": false,
    "ExecuteTime": {
     "end_time": "2024-02-27T06:21:14.953189Z",
     "start_time": "2024-02-27T06:21:11.826689Z"
    }
   },
   "id": "1273e356a47e6403",
   "execution_count": 16
  },
  {
   "cell_type": "code",
   "outputs": [
    {
     "data": {
      "text/plain": "DATE OCC\n2020    157453\n2021    164933\n2022    184900\n2023    172830\n2024     13479\nName: count, dtype: int64"
     },
     "execution_count": 26,
     "metadata": {},
     "output_type": "execute_result"
    }
   ],
   "source": [
    "df_joined[\"DATE OCC\"] = pd.to_datetime(df_joined[\"DATE OCC\"], errors='coerce')\n",
    "\n",
    "# Ahora puedes intentar extraer el año y contar las ocurrencias\n",
    "year_counts = df_joined[\"DATE OCC\"].dt.year.value_counts().sort_index()\n",
    "year_counts"
   ],
   "metadata": {
    "collapsed": false,
    "ExecuteTime": {
     "end_time": "2024-02-27T08:28:19.501289Z",
     "start_time": "2024-02-27T08:28:19.325864Z"
    }
   },
   "id": "6af41b3d2449cc42",
   "execution_count": 26
  },
  {
   "cell_type": "code",
   "outputs": [
    {
     "name": "stdout",
     "output_type": "stream",
     "text": [
      "Crs crimes: EPSG:2229\n",
      "Crs polygons: EPSG:2229\n",
      "True\n"
     ]
    }
   ],
   "source": [
    "crs_crimes = crimes_gdf.crs\n",
    "crs_polygons = polygons_gdf.crs\n",
    "\n",
    "# Verificando si ambos CRS coinciden\n",
    "crs_match = crs_crimes == crs_polygons\n",
    "print(f'Crs crimes: {crs_crimes}')\n",
    "print(f'Crs polygons: {crs_polygons}')\n",
    "print(crs_match)\n"
   ],
   "metadata": {
    "collapsed": false,
    "ExecuteTime": {
     "end_time": "2024-02-27T06:25:52.746406Z",
     "start_time": "2024-02-27T06:25:52.739700Z"
    }
   },
   "id": "5fd6509fe82817db",
   "execution_count": 20
  },
  {
   "cell_type": "code",
   "outputs": [
    {
     "data": {
      "text/plain": "<Figure size 1200x800 with 1 Axes>",
      "image/png": "[encoded data removed]"
     },
     "metadata": {},
     "output_type": "display_data"
    }
   ],
   "source": [
    "# Visualización rápida utilizando Geopandas y Matplotlib\n",
    "fig, ax = plt.subplots(figsize=(12, 8))\n",
    "\n",
    "# Dibujar polígonos de los distritos\n",
    "polygons_gdf.plot(ax=ax, color='lightgrey')\n",
    "\n",
    "# Dibujar puntos de los crímenes\n",
    "crimes_gdf.plot(ax=ax, color='red', markersize=5)\n",
    "\n",
    "plt.show()"
   ],
   "metadata": {
    "collapsed": false,
    "ExecuteTime": {
     "end_time": "2024-02-27T06:28:03.029262Z",
     "start_time": "2024-02-27T06:27:35.076992Z"
    }
   },
   "id": "59430e81bd50fa74",
   "execution_count": 22
  }
 ],
 "metadata": {
  "kernelspec": {
   "display_name": "Python 3",
   "language": "python",
   "name": "python3"
  },
  "language_info": {
   "codemirror_mode": {
    "name": "ipython",
    "version": 2
   },
   "file_extension": ".py",
   "mimetype": "text/x-python",
   "name": "python",
   "nbconvert_exporter": "python",
   "pygments_lexer": "ipython2",
   "version": "2.7.6"
  }
 },
 "nbformat": 4,
 "nbformat_minor": 5
}
